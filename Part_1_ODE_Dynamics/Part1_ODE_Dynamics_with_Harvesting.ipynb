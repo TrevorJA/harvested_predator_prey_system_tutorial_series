{
 "cells": [
  {
   "cell_type": "code",
   "execution_count": 1,
   "id": "8a7853ce",
   "metadata": {},
   "outputs": [],
   "source": [
    "# Import core modules\n",
    "import numpy as np\n",
    "import matplotlib.pyplot as plt\n",
    "from scipy import integrate\n",
    "import ipywidgets as widgets\n",
    "from ipywidgets import interact, interactive, fixed, interact_manual, HBox, Label, Layout, VBox, interactive_output\n",
    "import scipy"
   ]
  },
  {
   "cell_type": "code",
   "execution_count": 2,
   "id": "69956647",
   "metadata": {},
   "outputs": [
    {
     "data": {
      "text/plain": [
       "{'singular': 'ignore',\n",
       " 'underflow': 'ignore',\n",
       " 'overflow': 'ignore',\n",
       " 'slow': 'ignore',\n",
       " 'loss': 'ignore',\n",
       " 'no_result': 'ignore',\n",
       " 'domain': 'ignore',\n",
       " 'arg': 'ignore',\n",
       " 'other': 'ignore'}"
      ]
     },
     "execution_count": 2,
     "metadata": {},
     "output_type": "execute_result"
    }
   ],
   "source": [
    "# Import functions from custom modules\n",
    "from lotka_volterra_functions import type_II_lotka_volterra\n",
    "from lotka_volterra_functions import type_II_equilibrium\n",
    "from ode_plot_functions import plot_interactive_trajectories\n",
    "from ode_plot_functions import plot_time_trajectories\n",
    "from plot_inequality_surface import plot_inequality_surface\n",
    "\n",
    "# Set style (unnecessary)\n",
    "plt.style.use('ggplot')\n",
    "\n",
    "# Ignore error: RuntimeWarning: invalid value encoutered in true_divide\n",
    "np.seterr(divide = 'ignore', invalid = 'ignore')\n",
    "scipy.special.seterr(all ='ignore')"
   ]
  },
  {
   "cell_type": "code",
   "execution_count": 3,
   "id": "f8dba056",
   "metadata": {},
   "outputs": [],
   "source": [
    "# Define sliders for later use\n",
    "param_labs = ['a: prey availability', 'b: prey growth rate', 'c: rate that prey is converted to predator', 'd: predator death rate', 'h: handling time', 'K: prey carrying capacity', 'm: predator interference rate', 'z: harvesting effort']\n",
    "style = {'description_width': 'initial'}\n",
    "a_slider = widgets.FloatSlider(value = 0.005, min = 0.002, max = 2.000, step = 0.001, disabled = False, continuous_update = False, orientation = 'horizontal', readout = True, readout_format = '0.2f', style = style)\n",
    "b_slider = widgets.FloatSlider(value = 0.500, min = 0.005, max = 1.000, step = 0.001, disabled = False, continuous_update = False, orientation = 'horizontal', readout = True, readout_format = '0.2f', style = style)\n",
    "c_slider = widgets.FloatSlider(value = 0.5, min = 0.2, max = 1.0, step = 0.1, disabled = False, continuous_update = False, orientation = 'horizontal', readout = True, readout_format = '0.2f', style = style)\n",
    "d_slider = widgets.FloatSlider(value = 0.10, min = 0.05, max = 0.20, step = 0.01, disabled = False, continuous_update = False, orientation = 'horizontal', readout = True, readout_format = '0.2f', style = style)\n",
    "h_slider = widgets.FloatSlider(value = 0.100, min = 0.001, max = 1.000, step = 0.001, disabled = False, continuous_update = False, orientation = 'horizontal', readout = True, readout_format = '0.2f', style = style)\n",
    "K_slider = widgets.FloatSlider(value = 2000, min = 100, max = 5000, step = 100,  disabled = False, continuous_update = False, orientation = 'horizontal', readout = True, readout_format = '0.2f', style = style)\n",
    "m_slider = widgets.FloatSlider(value = 0.7, min = 0.1, max = 1.5, step = 0.1,  disabled = False, continuous_update = False, orientation = 'horizontal', readout = True, readout_format = '0.2f', style = style)\n",
    "z_slider = widgets.FloatSlider(value = 0.00, min = 0.00, max = 1.00, step = 0.01,  disabled = False, continuous_update = False, orientation = 'horizontal', readout = True, readout_format = '0.2f', style = style)\n"
   ]
  },
  {
   "cell_type": "code",
   "execution_count": 17,
   "id": "b7e48de6",
   "metadata": {},
   "outputs": [
    {
     "data": {
      "application/vnd.jupyter.widget-view+json": {
       "model_id": "824c93de54d64d718fd7d592276d8092",
       "version_major": 2,
       "version_minor": 0
      },
      "text/plain": [
       "VBox(children=(HBox(children=(VBox(children=(Label(value='a: prey availability'), Label(value='b: prey growth …"
      ]
     },
     "metadata": {},
     "output_type": "display_data"
    }
   ],
   "source": [
    "# Set up interactive plots using sliders\n",
    "trajectory_plot = interactive_output(plot_interactive_trajectories, {'a' : a_slider, 'b' : b_slider, 'c' : c_slider, 'd' : d_slider, 'h' : h_slider, 'K' : K_slider, 'm' : m_slider, 'z': z_slider})\n",
    "time_plot = interactive_output(plot_time_trajectories, {'a' : a_slider, 'b' : b_slider, 'c' : c_slider, 'd' : d_slider, 'h' : h_slider, 'K' : K_slider, 'm' : m_slider, 'z': z_slider})\n",
    "surface_output = interactive_output(plot_inequality_surface, {'a' : a_slider, 'b' : b_slider, 'c' : c_slider, 'd' : d_slider, 'h' : h_slider, 'K' : K_slider, 'm' : m_slider, 'z': z_slider})\n",
    "surface_output.layout.width = '25%'\n",
    "box_layout = widgets.Layout(display='flex', flex_flow = 'row', align_items ='center')\n",
    "both_plots = HBox([trajectory_plot, time_plot])\n",
    "top_row = HBox([VBox([Label(i) for i in param_labs]), VBox([a_slider, b_slider, c_slider, d_slider, h_slider, K_slider, m_slider, z_slider])], layout = box_layout)\n",
    "VBox([top_row, both_plots])"
   ]
  },
  {
   "cell_type": "code",
   "execution_count": null,
   "id": "e34344b3",
   "metadata": {},
   "outputs": [],
   "source": [
    "widget1"
   ]
  },
  {
   "cell_type": "code",
   "execution_count": null,
   "id": "dc656254",
   "metadata": {},
   "outputs": [],
   "source": []
  }
 ],
 "metadata": {
  "kernelspec": {
   "display_name": "Python 3 (ipykernel)",
   "language": "python",
   "name": "python3"
  },
  "language_info": {
   "codemirror_mode": {
    "name": "ipython",
    "version": 3
   },
   "file_extension": ".py",
   "mimetype": "text/x-python",
   "name": "python",
   "nbconvert_exporter": "python",
   "pygments_lexer": "ipython3",
   "version": "3.8.13"
  }
 },
 "nbformat": 4,
 "nbformat_minor": 5
}
