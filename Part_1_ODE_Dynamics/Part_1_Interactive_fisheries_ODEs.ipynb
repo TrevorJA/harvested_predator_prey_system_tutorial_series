{
 "cells": [
  {
   "cell_type": "code",
   "execution_count": 1,
   "id": "83b4802b",
   "metadata": {},
   "outputs": [],
   "source": [
    "# NOTE: the ipywidgets library must be installed!\n",
    "\n",
    "# Load a python module containing the custom widget\n",
    "from fisheries_ode_widget import make_fisheries_widget\n",
    "\n",
    "# Run the function\n",
    "fishery_widget = make_fisheries_widget()"
   ]
  },
  {
   "cell_type": "code",
   "execution_count": 2,
   "id": "a008719d",
   "metadata": {},
   "outputs": [
    {
     "data": {
      "application/vnd.jupyter.widget-view+json": {
       "model_id": "1a87436e06b04e88926f79443a75f1f5",
       "version_major": 2,
       "version_minor": 0
      },
      "text/plain": [
       "VBox(children=(HBox(children=(VBox(children=(Label(value='a: prey availability'), Label(value='b: prey growth …"
      ]
     },
     "metadata": {},
     "output_type": "display_data"
    }
   ],
   "source": [
    "fishery_widget"
   ]
  },
  {
   "cell_type": "code",
   "execution_count": null,
   "id": "0251f998",
   "metadata": {},
   "outputs": [],
   "source": []
  },
  {
   "cell_type": "code",
   "execution_count": null,
   "id": "3767b252",
   "metadata": {},
   "outputs": [],
   "source": []
  }
 ],
 "metadata": {
  "kernelspec": {
   "display_name": "Python 3 (ipykernel)",
   "language": "python",
   "name": "python3"
  },
  "language_info": {
   "codemirror_mode": {
    "name": "ipython",
    "version": 3
   },
   "file_extension": ".py",
   "mimetype": "text/x-python",
   "name": "python",
   "nbconvert_exporter": "python",
   "pygments_lexer": "ipython3",
   "version": "3.8.13"
  }
 },
 "nbformat": 4,
 "nbformat_minor": 5
}
