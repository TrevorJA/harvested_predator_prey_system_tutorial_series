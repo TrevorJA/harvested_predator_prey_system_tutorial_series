{
 "cells": [
  {
   "cell_type": "markdown",
   "id": "5354ba7c",
   "metadata": {},
   "source": [
    "# Fisheries Training Part 2 - Visualizing Optimization Output\n",
    "\n",
    "This is the third post in a training series, studying decision making under deep uncertainty within the context of a complex harvested predator-prey fishery. \n",
    "\n",
    "The first post in this training series, [Fisheries Training 0: Exploring Predator-Prey Dynamics, can be found here](https://waterprogramming.wordpress.com/2022/07/11/__trashed-3/).\n",
    "\n",
    "The second post in this training series, [Fisheries Training Part 1 – Harvest Optimization and MOEA Diagnostics](https://waterprogramming.wordpress.com/2022/08/08/fisheries-training-part-1-harvest-optimization-and-moea-diagnostics/). \n",
    "\n",
    "The GitHub repository, containing all of the source code used throughout this series, is available [here](https://github.com/TrevorJA/harvested_predator_prey_system_tutorial_series). "
   ]
  },
  {
   "cell_type": "markdown",
   "id": "641f1ff7",
   "metadata": {},
   "source": [
    "## A recap on our harvest strategy objectives "
   ]
  },
  {
   "cell_type": "markdown",
   "id": "565054bf",
   "metadata": {},
   "source": [
    "#### Objective 1: Net present value\n",
    "\n",
    "The NPV ($O_1$) is calculated as:\n",
    "$$O_1 = \\frac{1}{N} \\sum_{i=1}^N\\Big( \\sum_{t=0}^T \\frac{z_{t+1,i}x_{t,i}}{(1+\\delta)^t}\\Big)$$\n",
    "\n",
    "where $\\delta$ is the discount rate which converts future benefits to present economic value, here $\\delta = 0.05$. \n",
    "\n",
    "<br />"
   ]
  },
  {
   "cell_type": "markdown",
   "id": "0161db3e",
   "metadata": {},
   "source": [
    "#### Objective 2: Prey population deficit\n",
    "\n",
    "$$O_2 = \\frac{1}{N} \\sum_{i=1}^N\\Big( \\frac{1}{T} \\sum_{t=1}^T \\frac{K - x_{t,i}}{K}\\Big)$$\n",
    "\n",
    "where $K$ is the prey population carrying capacity.\n",
    "\n",
    "<br />"
   ]
  },
  {
   "cell_type": "markdown",
   "id": "3fbbb36d",
   "metadata": {},
   "source": [
    "#### Objective 3: Longest duration of consecutive low harvest\n",
    "\n",
    "$$O_3 = \\frac{1}{N} \\sum_{i=1}^N(max_T(\\phi_{t,i}))$$\n",
    "\n",
    "where \n",
    "\n",
    "$$\n",
    "\\phi_{t,i} = \\left\\{\n",
    "\t\\begin{array}\\\\\n",
    "\t\t\\phi_{t-1,i} + 1 & \\text{if } \\ z_t < \\text{limit}\\\\\n",
    "\t\t0 & \\text{otherwise.}\n",
    "\t\\end{array}\n",
    "\\right.\n",
    "$$\n",
    "\n",
    "<br />"
   ]
  },
  {
   "cell_type": "markdown",
   "id": "98dbb233",
   "metadata": {},
   "source": [
    "#### Objective 4: Worst harvest instance\n",
    "\n",
    "\n",
    "$$O_4 = \\frac{1}{N} \\sum_{i=1}^N(percentile_T(z_{t+1,i}x_{t,i}, 1))$$\n",
    "\n",
    "<br />"
   ]
  },
  {
   "cell_type": "markdown",
   "id": "3f8000dd",
   "metadata": {},
   "source": [
    "#### Objective #5: Harvest variance\n",
    "\n",
    "\n",
    "$$O_5 = \\frac{1}{N} \\sum_{i=1}^N(Var_T(z_{t+1,i}x_{t,i}))$$\n",
    "\n",
    "<br />"
   ]
  },
  {
   "cell_type": "markdown",
   "id": "84290aa7",
   "metadata": {},
   "source": [
    "#### Constraint: Avoid collapse of predator population\n",
    "\n",
    "\n",
    "$$\\frac{1}{N} \\sum_{i=1}^N(\\Psi_{t,i})) = $$\n",
    "\n",
    "where \n",
    "\n",
    "$$\n",
    "\\Psi_{t,i} = \\left\\{\n",
    "\t\\begin{array}\\\\\n",
    "\t\t1 & \\text{if } \\ y_{t,i} < 1\\\\\n",
    "\t\t0 & \\text{otherwise.}\n",
    "\t\\end{array}\n",
    "\\right.\n",
    "$$\n",
    "\n",
    "<br />"
   ]
  },
  {
   "cell_type": "markdown",
   "id": "bd7266ac",
   "metadata": {},
   "source": [
    "#### Problem formulation\n",
    "\n",
    "$$Minimize \\ F(z_x) = (-O_1, O_2, O_3, -O_4, O_5)$$\n"
   ]
  },
  {
   "cell_type": "markdown",
   "id": "f1cc6fff",
   "metadata": {},
   "source": [
    "## Optimizing the Fisheries Game and storing the outcomes\n",
    "### Import all libraries\n",
    "All functions required for this post can be found in the `fish_game_functions.py` file. This code is adapted from [Antonia Hadjimichael's original post](https://waterprogramming.wordpress.com/2021/08/13/introduction-to-pyborg-basic-setup-and-running/) on exploring the Fisheries Game dynamics using PyBorg."
   ]
  },
  {
   "cell_type": "code",
   "execution_count": 6,
   "id": "84545cf7",
   "metadata": {},
   "outputs": [],
   "source": [
    "# import all required libraries\n",
    "from platypus import Problem, Real, Hypervolume, Generator\n",
    "from pyborg import BorgMOEA\n",
    "from fish_game_functions import *\n",
    "from platypus import Problem, Real, Hypervolume, Generator\n",
    "from pyborg import BorgMOEA\n",
    "import matplotlib.pyplot as plt\n",
    "import time\n",
    "import random"
   ]
  },
  {
   "cell_type": "markdown",
   "id": "a5f37940",
   "metadata": {},
   "source": [
    "### Formulating the problem\n",
    "\n",
    "Define number of decision variables, constraints, and specify problem formulation (3- or 5-objective)"
   ]
  },
  {
   "cell_type": "code",
   "execution_count": 9,
   "id": "4371cc9e",
   "metadata": {},
   "outputs": [],
   "source": [
    "# Set the number of decision variables, constraints and performance objectives\n",
    "nVars = 6   # Define number of decision variables\n",
    "nObjs = 5   # Define number of objectives\n",
    "nCnstr = 1      # Define number of decision constraints\n",
    "\n",
    "# Define the upper and lower bounds of the performance objectives\n",
    "objs_lower_bounds = [-6000, 0, 0, -250, 0]\n",
    "objs_upper_bounds = [0, 1, 100, 0, 32000]"
   ]
  },
  {
   "cell_type": "markdown",
   "id": "65512416",
   "metadata": {},
   "source": [
    "### Initialize the problem for optimization\n",
    "We call the `fisheries_game_problem_setup.py` function to set up the optimization problem. This function returns a PyBorg object called `algorithm` in this exercise that will be optimized in the next step.<br>"
   ]
  },
  {
   "cell_type": "code",
   "execution_count": 10,
   "id": "b84c7294",
   "metadata": {},
   "outputs": [],
   "source": [
    "# initialize the optimization\n",
    "algorithm = fisheries_game_problem_setup(nVars, nObjs, nCnstr)"
   ]
  },
  {
   "cell_type": "markdown",
   "id": "215184cb",
   "metadata": {},
   "source": [
    "### Define parameters for optimization\n",
    "Before optimizing, we have to define our desired population size and number of function evaluations (NFEs)."
   ]
  },
  {
   "cell_type": "code",
   "execution_count": 16,
   "id": "d73ae80c",
   "metadata": {},
   "outputs": [],
   "source": [
    "nfe = 10000    # number of function evaluations\n",
    "pop_size = 500    # population size"
   ]
  },
  {
   "cell_type": "markdown",
   "id": "b563bc16",
   "metadata": {},
   "source": [
    "### Begin the optimization\n",
    "In addition to running the optimization, we also time the optimization to get a general estimate on the time the full hypervolume analysis will require."
   ]
  },
  {
   "cell_type": "code",
   "execution_count": 22,
   "id": "7afb7009",
   "metadata": {},
   "outputs": [
    {
     "name": "stdout",
     "output_type": "stream",
     "text": [
      "Time taken =  {2849.4955439567566}\n"
     ]
    }
   ],
   "source": [
    "# open file in which to store optimization objectives and variables\n",
    "f_objs = open('Fisheries2_objs.txt', \"w+\")\n",
    "f_vars = open('Fisheries2_vars.txt', \"w+\")\n",
    "\n",
    "# get number of algorithm variables and performance objectives\n",
    "nvars = algorithm.problem.nvars\n",
    "nobjs = algorithm.problem.nobjs\n",
    "    \n",
    "# begin timing the optimization\n",
    "opt_start_time = time.time()\n",
    "\n",
    "algorithm = fisheries_game_problem_setup(nVars, nObjs, nCnstr, pop_size=int(pop_size))\n",
    "algorithm.run(int(nfe))\n",
    "\n",
    "# get the solution archive\n",
    "arch = algorithm.archive[:]\n",
    "for i in range(len(arch)):\n",
    "    sol = arch[i]\n",
    "    # write objectives to file\n",
    "    for j in range(nobjs):\n",
    "        f_objs.write(str(sol.objectives[j]) + \" \")\n",
    "    # write variables to file\n",
    "    for j in range(nvars):\n",
    "        f_vars.write(str(sol.variables[j]) + \" \")\n",
    "        \n",
    "    f.write(\"\\n\")\n",
    "\n",
    "# end timing and print optimization time \n",
    "opt_end_time = time.time()\n",
    "\n",
    "opt_total_time = opt_end_time - opt_start_time\n",
    "\n",
    "f_objs.close()\n",
    "f_vars.close()\n",
    "\n",
    "# print the total time to console\n",
    "print(f\"Time taken = \", {opt_total_time})"
   ]
  },
  {
   "cell_type": "markdown",
   "id": "e7b2ac17",
   "metadata": {},
   "source": [
    "### Output post-processing"
   ]
  },
  {
   "cell_type": "markdown",
   "id": "167d37a0",
   "metadata": {},
   "source": [
    "First, import the `numpy` library required for output post-processing. Then, convert the text files to csv files:"
   ]
  },
  {
   "cell_type": "code",
   "execution_count": 41,
   "id": "379b9470",
   "metadata": {},
   "outputs": [],
   "source": [
    "import numpy as np\n",
    "\n",
    "# convert txt files to csv \n",
    "# load the .txt files as numpy matrices\n",
    "matrix_objs = np.genfromtxt('Fisheries2_objs.txt', delimiter=' ')\n",
    "matrix_vars = np.genfromtxt('Fisheries2_vars.txt', delimiter=' ')\n",
    "\n",
    "# reshape the matrices \n",
    "# the objectives file should have shape (n_solns, nObjs)\n",
    "# the variables file should have shape (n_solns, nVars)\n",
    "n_solns = int(matrix_objs.shape[0]/nObjs)\n",
    "\n",
    "matrix_objs = np.reshape(matrix_objs, (n_solns,nObjs))\n",
    "matrix_vars = np.reshape(matrix_vars, (n_solns,nVars))\n",
    "\n",
    "# label the objectives and variables\n",
    "objs_names = ['NPV', 'Pop_Deficit', 'Low_Harvest', 'Worst_Harvest', 'Variance']\n",
    "var_names = ['c1', 'r1', 'w1', 'c2', 'r2', 'w2']\n",
    "\n",
    "# Convert the matrices to dataframes with header names\n",
    "df_objs = pd.DataFrame(matrix_objs, columns=objs_names)\n",
    "df_vars = pd.DataFrame(matrix_vars, columns=var_names)\n",
    "\n",
    "# save the processed matrices as csv files\n",
    "df_objs.to_csv('Fisheries2_objs.csv', sep=',', index=False)\n",
    "df_vars.to_csv('Fisheries2_vars.csv', sep=',', index=False)"
   ]
  }
 ],
 "metadata": {
  "kernelspec": {
   "display_name": "Python 3 (ipykernel)",
   "language": "python",
   "name": "python3"
  },
  "language_info": {
   "codemirror_mode": {
    "name": "ipython",
    "version": 3
   },
   "file_extension": ".py",
   "mimetype": "text/x-python",
   "name": "python",
   "nbconvert_exporter": "python",
   "pygments_lexer": "ipython3",
   "version": "3.9.12"
  }
 },
 "nbformat": 4,
 "nbformat_minor": 5
}
