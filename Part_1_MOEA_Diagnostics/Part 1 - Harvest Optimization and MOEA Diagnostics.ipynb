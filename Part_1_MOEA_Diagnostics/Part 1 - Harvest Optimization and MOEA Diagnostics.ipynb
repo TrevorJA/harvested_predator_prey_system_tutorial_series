{
 "cells": [
  {
   "cell_type": "markdown",
   "id": "5354ba7c",
   "metadata": {},
   "source": [
    "# Fisheries Training Part 1 - Harvest Optimization and MOEA Diagnostics\n",
    "\n",
    "This is the second post in a training series, studying decision making under deep uncertainty within the context of a complex harvested predator-prey fishery. \n",
    "\n",
    "The first post in this training series, [Fisheries Training 0: Exploring Predator-Prey Dynamics, can be found here](https://waterprogramming.wordpress.com/2022/07/11/__trashed-3/). \n",
    "\n",
    "The GitHub repository, containing all of the source code used throughout this series, is available [here](https://github.com/TrevorJA/harvested_predator_prey_system_tutorial_series). "
   ]
  },
  {
   "cell_type": "markdown",
   "id": "ae4ae16c",
   "metadata": {},
   "source": [
    "## Installation (Trevor)\n",
    "\n",
    "Work in progress..."
   ]
  },
  {
   "cell_type": "markdown",
   "id": "23b57b56",
   "metadata": {},
   "source": [
    "## Harvested predator-prey model\n",
    "\n",
    "In the previous post, we introduced a modified form of the Lotka-Volterra system of ordinary differential equations (ODEs) defining predator-prey population dynamics. \n",
    "\n",
    "This modified version includes a non-linear predator population growth dynamic original proposed by Arditi and Akçakaya (1990), and includes a harvesting parameter, $z$. This system of equations is defined in [Hadjimichael et al. (2020)](https://www.hindawi.com/journals/complexity/2020/4170453/) as:\n",
    "\n",
    "$$\n",
    "\\tag{1.0}\n",
    "\\frac{dx}{dt} = bx\\Big(1 - \\frac{x}{K}\\Big) - \\frac{\\alpha xy}{y^m + \\alpha hx} - zx\n",
    "$$\n",
    "\n",
    "$$\n",
    "\\frac{dy}{dt} = \\frac{c\\alpha xy}{y^m + \\alpha hx} - dy\n",
    "$$\n",
    "\n",
    "Where $x$ is the prey population being harvested and $y$ is the predator population. Refer to [Post 0 of this series](https://waterprogramming.wordpress.com/2022/07/11/__trashed-3/) for the rest of the parameter descriptions. \n",
    "\n",
    "The first post provided insight into the non-linear dynamics that result from these ODEs, and how the system shifts between different basins of stability or population collapse.\n",
    "\n",
    "The purpose of this post is to focus on the generation of _harvesting policies_ which can be operated safely in the system without causing population collapse. "
   ]
  },
  {
   "cell_type": "markdown",
   "id": "90475f46",
   "metadata": {},
   "source": [
    "## Harvesting policy\n",
    "\n",
    "Rather than assigning a deterministic, or specific harvest effort level for every time period, we can design an _adaptive_ policy which is a function of the current state of the system: \n",
    "$$\\tag{2.0} z_t = f(\\cdot) $$\n",
    "\n",
    "The problem then becomes the optimization of the control rule, $f(\\cdot)$, rather than the specific values, $z = (z_0, z_1,..., z_T)$. This process of optimizing the parameters of a state-aware control rule is referred to as _direct policy search_.\n",
    "\n",
    "Previous work done by [Quinn et al. (2017)](https://www.sciencedirect.com/science/article/pii/S1364815216302250) showed that an adaptive policy, generated using a direct policy search, was able to navigate deeply uncertain ecological tipping points more reliably than intertemporal policies which prescribed specific efforts at each timestep.  "
   ]
  },
  {
   "cell_type": "markdown",
   "id": "06c700a7",
   "metadata": {},
   "source": [
    "### Radial basis functions\n",
    "\n",
    "**Radial basis functions (RBFs)** are flexible, parametric function formulations which can map the state of the system to policy action. Previous study by [Giuliani et al (2015)](https://drive.google.com/file/d/1_sQL84YnmQvwpruedQWECOjLaFjFXth7/view) has shown that RBFs are highly effective in generating Pareto-approximate sets of solutions, and that they perform well when applied to horizons different from the optimized simulation horizon. \n",
    "\n",
    "There are various RBFs available, such as the _cubic RBF_ used by Quinn et al. (2017).  Here, we use the Gaussian RBF initially used by Hadjimichael et al. (2020), where the harvest effort during the next timestep, $z_{t+1}$, is mapped to the current prey population levels, $x_t$ by the function:\n",
    "\n",
    "$$\n",
    "\\tag{3.0}\n",
    "z_{t+1} = \\sum_{i=1}^n w_i \\Big[exp\\Big[-\\Big(\\frac{x_t-c_i}{b_i}\\Big)^2\\Big]\\Big]\n",
    "$$\n",
    "\n",
    "In this formulation $c_i, r_i,$ and $w_i$ and the _center_, _radius_, and _weights_ of each RBF.  Additionally, $n$ is the number of RBFs used in the function; in this study we use $n = 2$ RBFs. With two RBFs, there are a total of 6 parameters. Increasing the number of RBFs allows for more flexible function forms to be achieved, however two RBFs have been shown to be effective for this problem. \n",
    "\n",
    "The sum of the _weights_ must be equal to one, such that:\n",
    "\n",
    "$$\\tag{3.1}\\sum_{i=1}^n w_i= 1$$\n",
    "\n",
    "The function ```harvest_streategy()``` is contained within the ```fish_game``` script, which can be accessed [here in the repository **UPDATE LINK**].\n",
    "\n",
    "The ```harvest_strategy()``` function uses the RBF parameter values (i.e., $[c_1, b_1, w_1, c_2, b_2, w_2]$), and the current prey population, to calculate the next year's harvesting effort: "
   ]
  },
  {
   "cell_type": "code",
   "execution_count": 6,
   "id": "f2e8e28a",
   "metadata": {},
   "outputs": [],
   "source": [
    "import numpy as np\n",
    "import matplotlib.pyplot as plt\n",
    "\n",
    "def evaluate_RBF(x, RBF_params, nRBFs):\n",
    "    \"\"\"\n",
    "    Parameters:\n",
    "    -----------\n",
    "    x : float\n",
    "        The current state of the system.\n",
    "    RBF_params : list [3xnRBFs]\n",
    "        The RBF parameters in the order of [c, r, w,...,c, r, w].\n",
    "    nRBFs : int\n",
    "        The number of RBFs used in the mapping function.\n",
    "\n",
    "    Returns:\n",
    "    --------\n",
    "    z : float\n",
    "        The policy action.\n",
    "    \"\"\"\n",
    "\n",
    "    c = RBF_params[0::3]\n",
    "    r = RBF_params[1::3]\n",
    "    w = RBF_params[2::3]\n",
    "\n",
    "    # Normalize the weights\n",
    "    w_norm = []\n",
    "    if np.sum(w) != 0:\n",
    "        for w_i in w:\n",
    "            w_norm.append(w_i / np.sum(w))\n",
    "    else:\n",
    "        w_norm = (1/nRBFs)*np.ones(len(w))\n",
    "    \n",
    "    z = 0.0\n",
    "    \n",
    "    for i in range(nRBFs):\n",
    "        \n",
    "        # Avoid division by zero\n",
    "        if r[i] != 0:\n",
    "            z = z + w[i] * np.exp(-((x - c[i])/r[i])**2)\n",
    "        else:\n",
    "            z = z + w[i] * np.exp(-((x - c[i])/(10**-6))**2)\n",
    "\n",
    "    return z"
   ]
  },
  {
   "cell_type": "markdown",
   "id": "d7678c27",
   "metadata": {},
   "source": [
    "To better understand the nature of the harvesting policy, it is helpful to visualize the policy function, $z = f(\\cdot)$.  \n",
    "\n",
    "For some arbitrary selection of RBF parameters:\n",
    "\n",
    "$$[c_1, b_1, w_1, c_2, b_2, w_2] = [0.2, 1.1, 0.41, 0.34,0.7, 0.59] $$\n",
    "\n",
    "The following function will plot the harvesting strategy:"
   ]
  },
  {
   "cell_type": "code",
   "execution_count": 15,
   "id": "3dad0ee7",
   "metadata": {},
   "outputs": [],
   "source": [
    "def plot_RBF_policy(x_range, x_label, y_range, y_label, RBF_params, nRBFs):\n",
    "    \"\"\"\n",
    "    Parameters:\n",
    "    -----------\n",
    "    RBF_params : list [3xnRBFs]\n",
    "        The RBF parameters in the order of [c, r, w,...,c, r, w].\n",
    "    nRBFs : int\n",
    "        The number of RBFs used in the mapping function.\n",
    "        \n",
    "    Returns:\n",
    "    --------\n",
    "    None.\n",
    "    \"\"\"\n",
    "    # Step size\n",
    "    n = 100\n",
    "    x_min = x_range[0]\n",
    "    x_max = x_range[1]\n",
    "    y_min = y_range[0]\n",
    "    y_max = y_range[1]\n",
    "\n",
    "    # Generate data\n",
    "    x_vals = np.linspace(x_min, x_max, n)\n",
    "    y_vals = np.zeros(n)\n",
    "\n",
    "    for i in range(n):\n",
    "        y = evaluate_RBF(x_vals[i], RBF_params, nRBFs)\n",
    "\n",
    "        # Check that assigned actions are within range\n",
    "        if y < y_min:\n",
    "            y = y_min\n",
    "        elif y > y_max:\n",
    "            y = y_max\n",
    "\n",
    "        y_vals[i] = y\n",
    "\n",
    "    # Plot\n",
    "    fig, ax = plt.subplots(figsize = (5,5), dpi = 100)\n",
    "    ax.plot(x_vals, y_vals, label = 'Policy', color = 'green')\n",
    "    ax.set_xlabel(x_label)\n",
    "    ax.set_ylabel(y_label)\n",
    "    ax.set_title('RBF Policy')\t\n",
    "\n",
    "    plt.show()\n",
    "\n",
    "    return"
   ]
  },
  {
   "cell_type": "markdown",
   "id": "a98ec4cd",
   "metadata": {},
   "source": [
    "Let's take a look at the policy that results from the random RBF parameters listed above. Setting my problem-specific inputs, and running the function: "
   ]
  },
  {
   "cell_type": "code",
   "execution_count": 16,
   "id": "50d773ae",
   "metadata": {},
   "outputs": [
    {
     "data": {
      "image/png": "[encoded data removed]",
      "text/plain": [
       "<Figure size 500x500 with 1 Axes>"
      ]
     },
     "metadata": {
      "needs_background": "light"
     },
     "output_type": "display_data"
    }
   ],
   "source": [
    "nRBFs = 2\n",
    "RBF_params = [0.2, 1.1, 0.41, 0.34,0.7, 0.59]\n",
    "x_range = [0, 1]\n",
    "x_label = 'Population ($x$)'\n",
    "y_range = [0,1]\n",
    "y_label = 'Harvest Effort ($z$)'\n",
    "plot_RBF_policy(x_range, x_label, y_range, y_label, RBF_params, nRBFs)"
   ]
  },
  {
   "cell_type": "markdown",
   "id": "27e9ff4e",
   "metadata": {},
   "source": [
    "This policy does not make much intuitive sense... why should harvesting efforts be _decreased_ when the fish population is _large_? Well, that's because I chose these RBF parameter values randomly.  \n",
    "\n",
    "Finding a set of optimal RBF parameter values is the next step in this process!"
   ]
  },
  {
   "cell_type": "markdown",
   "id": "641f1ff7",
   "metadata": {},
   "source": [
    "## Harvest strategy objectives "
   ]
  },
  {
   "cell_type": "markdown",
   "id": "565054bf",
   "metadata": {},
   "source": [
    "#### Objective 1: Net present value\n",
    "\n",
    "The NPV ($O_1$) is calculated as:\n",
    "$$O_1 = \\frac{1}{N} \\sum_{i=1}^N\\Big( \\sum_{t=0}^T \\frac{z_{t+1,i}x_{t,i}}{(1+\\delta)^t}\\Big)$$\n",
    "\n",
    "where $\\delta$ is the discount rate which converts future benefits to present economic value, here $\\delta = 0.05$. \n",
    "\n",
    "<br />"
   ]
  },
  {
   "cell_type": "markdown",
   "id": "0161db3e",
   "metadata": {},
   "source": [
    "#### Objective 2: Prey population deficit\n",
    "\n",
    "$$O_2 = \\frac{1}{N} \\sum_{i=1}^N\\Big( \\frac{1}{T} \\sum_{t=1}^T \\frac{K - x_{t,i}}{K}\\Big)$$\n",
    "\n",
    "where $K$ is the prey population carrying capacity.\n",
    "\n",
    "<br />"
   ]
  },
  {
   "cell_type": "markdown",
   "id": "3fbbb36d",
   "metadata": {},
   "source": [
    "#### Objective 3: Longest duration of consecutive low harvest\n",
    "\n",
    "$$O_3 = \\frac{1}{N} \\sum_{i=1}^N(max_T(\\phi_{t,i}))$$\n",
    "\n",
    "where \n",
    "\n",
    "$$\n",
    "\\phi_{t,i} = \\left\\{\n",
    "\t\\begin{array}\\\\\n",
    "\t\t\\phi_{t-1,i} + 1 & \\text{if } \\ z_t < \\text{limit}\\\\\n",
    "\t\t0 & \\text{otherwise.}\n",
    "\t\\end{array}\n",
    "\\right.\n",
    "$$\n",
    "\n",
    "<br />"
   ]
  },
  {
   "cell_type": "markdown",
   "id": "98dbb233",
   "metadata": {},
   "source": [
    "#### Objective 4: Worst harvest instance\n",
    "\n",
    "\n",
    "$$O_4 = \\frac{1}{N} \\sum_{i=1}^N(percentile_T(z_{t+1,i}x_{t,i}, 1))$$\n",
    "\n",
    "<br />"
   ]
  },
  {
   "cell_type": "markdown",
   "id": "3f8000dd",
   "metadata": {},
   "source": [
    "#### Objective #5: Harvest variance\n",
    "\n",
    "\n",
    "$$O_5 = \\frac{1}{N} \\sum_{i=1}^N(Var_T(z_{t+1,i}x_{t,i}))$$\n",
    "\n",
    "<br />"
   ]
  },
  {
   "cell_type": "markdown",
   "id": "84290aa7",
   "metadata": {},
   "source": [
    "#### Constraint: Avoid collapse of predator population\n",
    "\n",
    "\n",
    "$$\\frac{1}{N} \\sum_{i=1}^N(\\Psi_{t,i})) = $$\n",
    "\n",
    "where \n",
    "\n",
    "$$\n",
    "\\Psi_{t,i} = \\left\\{\n",
    "\t\\begin{array}\\\\\n",
    "\t\t1 & \\text{if } \\ y_{t,i} < 1\\\\\n",
    "\t\t0 & \\text{otherwise.}\n",
    "\t\\end{array}\n",
    "\\right.\n",
    "$$\n",
    "\n",
    "<br />"
   ]
  },
  {
   "cell_type": "markdown",
   "id": "bd7266ac",
   "metadata": {},
   "source": [
    "#### Problem formulation\n",
    "\n",
    "$$Minimize \\ F(z_x) = (-O_1, O_2, O_3, -O_4, O_5)$$\n"
   ]
  },
  {
   "cell_type": "markdown",
   "id": "cc8bd6f3",
   "metadata": {},
   "source": [
    "## PyBorg (Lillian)\n",
    "\n",
    "Brief summary of pyborg.\n",
    "\n",
    "Mention how it is paired with Platypus as well\n",
    "\n",
    "## Installation (Lillian)\n",
    "\n",
    "We should be very detailed here, I noticed that Antonia's pyborg post was not super detailed/clear. \n",
    "\n",
    "Also, the ```setup.py``` method she describes is outdated, and prompts a warning.  Instead, we can just mention the dependencies and recommend pip installs for each (i think Platypus and Six are the only non-common libraries)"
   ]
  },
  {
   "cell_type": "markdown",
   "id": "f1cc6fff",
   "metadata": {},
   "source": [
    "### Import all libraries\n",
    "All functions required for this post can be found in the `fish_game_functions.py` file. This code is adapted from [Antonia Hadjimichael's original post](https://waterprogramming.wordpress.com/2021/08/13/introduction-to-pyborg-basic-setup-and-running/) on exploring the Fisheries Game dynamics using PyBorg."
   ]
  },
  {
   "cell_type": "code",
   "execution_count": 1,
   "id": "84545cf7",
   "metadata": {},
   "outputs": [
    {
     "ename": "SyntaxError",
     "evalue": "invalid syntax (fish_game_functions.py, line 17)",
     "output_type": "error",
     "traceback": [
      "Traceback \u001b[1;36m(most recent call last)\u001b[0m:\n",
      "  File \u001b[0;32m~\\Anaconda3\\lib\\site-packages\\IPython\\core\\interactiveshell.py:3369\u001b[0m in \u001b[0;35mrun_code\u001b[0m\n    exec(code_obj, self.user_global_ns, self.user_ns)\n",
      "\u001b[1;36m  Input \u001b[1;32mIn [1]\u001b[1;36m in \u001b[1;35m<cell line: 6>\u001b[1;36m\u001b[0m\n\u001b[1;33m    from fish_game_functions import (fish_game_5_objs, fish_game_3_objs, plot_3d_tradeoff,\u001b[0m\n",
      "\u001b[1;36m  File \u001b[1;32m~\\Desktop\\Git_Repos\\harvested_predator_prey_system_tutorial_series\\Part_1_MOEA_Diagnostics\\fish_game_functions.py:17\u001b[1;36m\u001b[0m\n\u001b[1;33m    <<<<<<< HEAD\u001b[0m\n\u001b[1;37m    ^\u001b[0m\n\u001b[1;31mSyntaxError\u001b[0m\u001b[1;31m:\u001b[0m invalid syntax\n"
     ]
    }
   ],
   "source": [
    "# import all required libraries\n",
    "from platypus import Problem, Real, Hypervolume, Generator\n",
    "from pyborg import BorgMOEA\n",
    "from fish_game_functions import *\n",
    "from platypus import Problem, Real, Hypervolume, Generator\n",
    "from pyborg import BorgMOEA\n",
    "import matplotlib.pyplot as plt\n",
    "import time\n",
    "import ipywidgets as widgets\n",
    "from ipywidgets import HBox, VBox, Layout, Label\n",
    "import random"
   ]
  },
  {
   "cell_type": "code",
   "execution_count": null,
   "id": "6262e59a",
   "metadata": {},
   "outputs": [],
   "source": [
    "import ipywidgets as widgets\n",
    "# Based on Hadjimichael et al 2020\n",
    "prob_formulation = widgets.Dropdown(options=['5-objective', '3-objective'],\n",
    "                         description='', value='5-objective', disabled=False)\n",
    "prob_formulation"
   ]
  },
  {
   "cell_type": "markdown",
   "id": "a5f37940",
   "metadata": {},
   "source": [
    "### Initializing the problem\n",
    "\n",
    "Define number of decision variables, constraints, and specify problem formulation (3- or 5-objective)"
   ]
  },
  {
   "cell_type": "code",
   "execution_count": null,
   "id": "4371cc9e",
   "metadata": {},
   "outputs": [],
   "source": [
    "from fish_game_functions import *\n",
    "import pyborg\n",
    "from platypus import (Problem, Real, Hypervolume)\n",
    "from pyborg import BorgMOEA\n",
    "# Set the number of decision variables, constraints and performance objectives\n",
    "nVars = 6   # Define number of decision variables\n",
    "nObjs = 5\n",
    "if prob_formulation == '5-objective':\n",
    "    nObjs = 5\n",
    "elif prob_formulation == '3-objective':\n",
    "    nObjs = 3\n",
    "nCnstr = 1      # Define number of decision constraints\n",
    "\n",
    "# Define the upper and lower bounds of the performance objectives\n",
    "objs_lower_bounds = [-6000, 0, 0, -250, 0]\n",
    "objs_upper_bounds = [0, 1, 100, 0, 32000]"
   ]
  },
  {
   "cell_type": "markdown",
   "id": "65512416",
   "metadata": {},
   "source": [
    "### Initialize the optimization\n",
    "The user has the option to set their preferred NFE and intial population size<br>\n",
    "**Need to include explanations for abbreviations used for the objectives**"
   ]
  },
  {
   "cell_type": "code",
   "execution_count": null,
   "id": "b84c7294",
   "metadata": {},
   "outputs": [],
   "source": [
    "# initialize the optimization\n",
    "init_list = ['Initial NFE: ', 'Initial population size: ']\n",
    "init_labels = [Label(i) for i in init_list]\n",
    "\n",
    "init_nfe = widgets.IntText(value=100, description='Any', disabled=False)\n",
    "init_pop_size = widgets.IntText(value=100, description='Any', disabled=False)\n",
    "\n",
    "list_of_inits = [init_nfe, init_pop_size]\n",
    "\n",
    "HBox([VBox(init_labels), VBox(list_of_inits)])\n",
    "box_layout_inits = widgets.Layout(display='flex', flex_flow = 'row', align_items ='center', justify_content = 'center')\n",
    "\n",
    "init_widget = HBox([VBox(init_labels), VBox(list_of_inits)])\n",
    "box_layout_inits = widgets.Layout(display='flex', flex_flow = 'row', align_items ='center', justify_content = 'center')\n",
    "init_widget"
   ]
  },
  {
   "cell_type": "markdown",
   "id": "560372ac",
   "metadata": {},
   "source": [
    "The objectives scores arn't very good, but that is because the number of function evaluations is so low. In order to get a better set of solutions, we need to run the MOEA for many function evaluations.  \n",
    "\n",
    "The next section demonstrates the change in objective performance with respect to the number of function evaluations.\n"
   ]
  },
  {
   "cell_type": "markdown",
   "id": "b563bc16",
   "metadata": {},
   "source": [
    "### Begin the optimization\n",
    "Here, we also time the optimization to get a general estimate on the time the full hypervolume analysis will require."
   ]
  },
  {
   "cell_type": "code",
   "execution_count": null,
   "id": "7afb7009",
   "metadata": {},
   "outputs": [],
   "source": [
    "# begin timing the Borg run\n",
    "borg_start_time = time.time()\n",
    "\n",
    "algorithm = fisheries_game_problem_setup(nVars, nObjs, nCnstr, pop_size=int(init_pop_size))\n",
    "algorithm.run(int(init_nfe))\n",
    "\n",
    "# end timing and print optimization time \n",
    "borg_end_time = time.time()\n",
    "\n",
    "borg_total_time = borg_end_time - borg_start_time\n",
    "\n",
    "print(f\"borg_total_time={borg_total_time}s\")"
   ]
  },
  {
   "cell_type": "markdown",
   "id": "a3dca0bd",
   "metadata": {},
   "source": [
    "### Interactively select objectives to plot\n",
    "The user can select the objectives that they wish to plot."
   ]
  },
  {
   "cell_type": "code",
   "execution_count": null,
   "id": "62b12e1e",
   "metadata": {},
   "outputs": [],
   "source": [
    "objs_list = ['Objective 1', 'Objective 2', 'Objective 3']\n",
    "\n",
    "obj1 = widgets.Dropdown(options=['Mean NPV', 'Mean prey deficit', 'Mean WCLH', \n",
    "                                 'Mean 1% harvest', 'Mean harvest variance'],\n",
    "                         description='', value='Mean NPV', disabled=False)\n",
    "obj2 = widgets.Dropdown(options=['Mean NPV', 'Mean prey deficit', 'Mean WCLH', \n",
    "                                 'Mean 1% harvest', 'Mean harvest variance'],\n",
    "                         description='', value='Mean prey deficit', disabled=False)\n",
    "\n",
    "obj3 = widgets.Dropdown(options=['Mean NPV', 'Mean prey deficit', 'Mean WCLH', \n",
    "                                 'Mean 1% harvest', 'Mean harvest variance'],\n",
    "                         description='', value='Mean WCLH', disabled=False)\n",
    "\n",
    "list_of_objs = [Label(i) for i in objs_list]\n",
    "list_of_dropdowns = [obj1, obj2, obj3]\n",
    "\n",
    "tradeoff_widget = HBox([VBox(list_of_objs), VBox(list_of_dropdowns)])\n",
    "box_layout_objs = widgets.Layout(display='flex', flex_flow = 'row', align_items ='center', justify_content = 'center')\n",
    "tradeoff_widget"
   ]
  },
  {
   "cell_type": "markdown",
   "id": "fd1df250",
   "metadata": {},
   "source": [
    "### Plot the tradeoff surface\n",
    "Here, we plot a 3-dimensional plot showing the tradeoff between a select number of objectives. If you have selected the 5-objective problem formulation, you can select the three objectives you would like to analyze the tradeoff surface for."
   ]
  },
  {
   "cell_type": "code",
   "execution_count": null,
   "id": "7f932583",
   "metadata": {},
   "outputs": [],
   "source": [
    "# Plot objective tradeoff surface\n",
    "fig_objs = plt.figure(figsize=(8,8))\n",
    "ax_objs = fig_objs.add_subplot(111, projection='3d')\n",
    "\n",
    "objs_indices = []\n",
    "objs_labels = []\n",
    "objs_min = []\n",
    "\n",
    "if nObjs == 5:\n",
    "    objs_indices = [select_objective(obj1.value)[0], select_objective(obj2.value)[0], select_objective(obj2.value)[0]]\n",
    "    obj_labels = [obj1.value, obj2.value, obj3.value]\n",
    "    obj_min = [select_objective(obj1.value)[1], select_objective(obj2.value)[1], select_objective(obj2.value)[1]]\n",
    "else:\n",
    "    objs_indices = [0,1,2]\n",
    "    obj_labels = ['Mean NPV', 'Mean prey deficit', 'Mean WCLH']\n",
    "    obj_min = [-6000, 0, 0]\n",
    "\n",
    "plot_3d_tradeoff(algorithm, ax_objs, objs_indices, obj_labels, obj_min)"
   ]
  },
  {
   "cell_type": "markdown",
   "id": "856f6c69",
   "metadata": {},
   "source": [
    "### MOEA Diagnostics\n",
    "\n",
    "Explain why to do diagnostic tests.\n",
    "\n",
    "Reed group Alum Prof. [Joe Kasprzyk wrote a post describing three common MOEA diagnostic metrics](https://waterprogramming.wordpress.com/2013/06/25/moea-performance-metrics/): generational distance, epsilon indicator, and hypervolume. \n",
    "\n",
    "#### Hypervolume\n",
    "\n",
    "The hypervolume is a measure of the multi-dimensional volume _dominated_ by the approximated pareto front. As the pareto front advances toward the \"_ideal_\" solution, this value approaches 1. \n",
    "\n",
    "The efficiency of an MOEA in optimizing a solution can be considered by measuring the hypervolume with respect to the number of function evaluations. This allows the user to understand how quickly the MOEA is converging to a good set of solutions, and how many function evaluations are needed to achieve a good set of solutions.\n"
   ]
  },
  {
   "cell_type": "markdown",
   "id": "85a4ab02",
   "metadata": {},
   "source": [
    "### Setup the widget\n",
    "Will need to hide this from the broader user interface"
   ]
  },
  {
   "cell_type": "code",
   "execution_count": null,
   "id": "190a69c0",
   "metadata": {},
   "outputs": [],
   "source": [
    "hvol_list = ['Max number of NFEs: ', 'Step size: ']\n",
    "maxevals = widgets.IntText(value=200, description='Any', disabled=False)\n",
    "frequency = widgets.IntText(value=100, description='Any', disabled=False)\n",
    "\n",
    "param_labels = [Label(i) for i in hvol_list]\n",
    "list_of_dropdowns = [maxevals, frequency]\n",
    "\n",
    "hvol_widget = HBox([VBox(param_labels), VBox(list_of_dropdowns)])\n",
    "box_layout_hvol = widgets.Layout(display='flex', flex_flow = 'row', align_items ='center', justify_content = 'center')\n",
    "hvol_widget"
   ]
  },
  {
   "cell_type": "markdown",
   "id": "3cf4728f",
   "metadata": {},
   "source": [
    "### Plotting the hypervolume\n",
    "Here, we make a basic plot of hypervolume vs NFE to show how the problem converges"
   ]
  },
  {
   "cell_type": "markdown",
   "id": "39199e5f",
   "metadata": {},
   "source": [
    "fig_hvol = plt.figure(figsize=(8,12))\n",
    "ax_hvol = fig_hvol.add_subplot()\n",
    "\n",
    "plot_hvol(algorithm, maxevals, frequency, objs_lower_bounds, objs_upper_bounds, ax_hvol)\n",
    "\n",
    "plt.title('PyBorg Runtime (Hypervolume)')\n",
    "plt.xlabel('Number of Function Evaluations')\n",
    "plt.ylabel('Hypervolume')\n",
    "plt.show()"
   ]
  },
  {
   "cell_type": "markdown",
   "id": "27594d72",
   "metadata": {},
   "source": [
    "### Perform random seed analysis\n",
    "We test out different initial population sizes. <br>\n",
    "Performed to show if pyBorg's performance is sensitive to the size of its initial population."
   ]
  },
  {
   "cell_type": "code",
   "execution_count": null,
   "id": "43a6bcde",
   "metadata": {},
   "outputs": [],
   "source": [
    "pop_size_list = [100, 200, 400, 800, 1000]\n",
    "\n",
    "fig_rand_seed = plt.figure(figsize=(8,12))\n",
    "ax_rand_seed = fig_rand_seed.add_subplot()\n",
    "\n",
    "for p in range(len(pop_size_list)):\n",
    "    fisheries_game_problem_setup(nVars, nObjs, nCnstr, pop_size_list[p])\n",
    "    algorithm = fisheries_game_problem_setup(nVars, nObjs, nCnstr, pop_size=int(init_pop_size))\n",
    "    algorithm.run(int(init_nfe))\n",
    "    \n",
    "    plot_hvol(maxevals, frequency, objs_lower_bounds, objs_upper_bounds, \n",
    "              ax_rand_seed, pop_size=pop_size_list[p])\n",
    "\n",
    "plt.title('PyBorg Random Seed Analysis')\n",
    "plt.xlabel('Number of Function Evaluations')\n",
    "plt.ylabel('Hypervolume')\n",
    "plt.legend()\n",
    "plt.show()"
   ]
  }
 ],
 "metadata": {
  "kernelspec": {
   "display_name": "Python 3 (ipykernel)",
   "language": "python",
   "name": "python3"
  },
  "language_info": {
   "codemirror_mode": {
    "name": "ipython",
    "version": 3
   },
   "file_extension": ".py",
   "mimetype": "text/x-python",
   "name": "python",
   "nbconvert_exporter": "python",
   "pygments_lexer": "ipython3",
   "version": "3.9.12"
  }
 },
 "nbformat": 4,
 "nbformat_minor": 5
}
