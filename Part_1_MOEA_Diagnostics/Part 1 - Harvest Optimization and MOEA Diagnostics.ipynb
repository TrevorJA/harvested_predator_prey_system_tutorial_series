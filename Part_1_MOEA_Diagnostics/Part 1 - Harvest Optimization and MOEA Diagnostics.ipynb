{
 "cells": [
  {
   "cell_type": "markdown",
   "id": "5354ba7c",
   "metadata": {},
   "source": [
    "# Fisheries Training Part 1 - Harvest Optimization and MOEA Diagnostics\n",
    "\n",
    "This is the second post in a training series, studying decision making under deep uncertainty within the context of a complex harvested predator-prey fishery. \n",
    "\n",
    "The first post in this training series, [Fisheries Training 0: Exploring Predator-Prey Dynamics, can be found here](https://waterprogramming.wordpress.com/2022/07/11/__trashed-3/). \n",
    "\n",
    "The GitHub repository, containing all of the source code used throughout this series, is available [here](https://github.com/TrevorJA/harvested_predator_prey_system_tutorial_series). "
   ]
  },
  {
   "cell_type": "markdown",
   "id": "23b57b56",
   "metadata": {},
   "source": [
    "## Harvested predator-prey model (Trevor)\n",
    "\n",
    "Re-vist the ODEs here.\n",
    "\n"
   ]
  },
  {
   "cell_type": "markdown",
   "id": "90475f46",
   "metadata": {},
   "source": [
    "## Harvesting policy - Radial Basis Functions\n",
    "\n",
    "\n",
    "\n",
    "\n",
    "The function ```harvest_streategy()``` is contained within the ```fish_game``` script, which can be accessed [here in the repository](https://github.com/TrevorJA/harvested_predator_prey_system_tutorial_series/blob/main/Part_1_MOEA_Diagnostics/fish_game.py).\n",
    "\n",
    "The ```harvest_strategy()``` function uses the RBF parameter values (i.e., \\\\(c_i, b_i,\\\\) and w_i)\n",
    "\n",
    "returns ...\n",
    "\n",
    "```python\n",
    "def harvest_strategy(population, RBF_params, nRBFs = 2):\n",
    "    ...\n",
    "    harvest_effort = ...\n",
    "    ...\n",
    "    return harvest_effort \n",
    "```\n",
    "\n",
    "At every timestep "
   ]
  },
  {
   "cell_type": "markdown",
   "id": "06c700a7",
   "metadata": {},
   "source": [
    "## Harvest strategy objectives (Trevor)\n",
    "\n",
    "\n",
    "#### Objective #1: \n",
    "\n",
    "\n",
    "#### Objective #2:\n",
    "\n",
    "\n",
    "#### Objective #3:\n",
    "\n",
    "\n",
    "#### Objective #4:\n",
    "\n"
   ]
  },
  {
   "cell_type": "markdown",
   "id": "9e0be30d",
   "metadata": {},
   "source": [
    "## Building a model of the harvested system\n",
    "\n",
    "Here, I provide an overview of the ```fish_game()``` model which combines many of the preceeding topics. The goal for this model is to take a set of RBF parameters, which define the harvesting strategy, simulate the policy for some length of time, and then return the objective score. \n",
    "\n",
    "Later, this model is what will be used with a Multi-Objective Evolutionary Algorithm, which will evaluate thousands of policies (RBF parameter combinations) and attempt to find those policies with the best objective performance. \n",
    "\n",
    "The model process is...\n",
    "\n",
    "\n",
    "```python\n",
    "def fish_game(RBF_params):\n",
    "\n",
    "    return objectives, constraint\n",
    "```"
   ]
  },
  {
   "cell_type": "code",
   "execution_count": null,
   "id": "6edb0a6b",
   "metadata": {},
   "outputs": [],
   "source": [
    "# Import common libraries\n",
    "import numpy as np\n",
    "import matplotlib.plot as plt\n"
   ]
  },
  {
   "cell_type": "code",
   "execution_count": null,
   "id": "9f518572",
   "metadata": {},
   "outputs": [],
   "source": [
    "# Code for the fish game here, with objective outputs\n",
    "\n",
    "def fish_game():\n",
    "    \n",
    "    return\n"
   ]
  },
  {
   "cell_type": "markdown",
   "id": "cc8bd6f3",
   "metadata": {},
   "source": [
    "## PyBorg (Lillian)\n",
    "\n",
    "Brief summary of pyborg.\n",
    "\n",
    "Mention how it is paired with Platypus as well\n",
    "\n",
    "## Installation (Lillian)\n",
    "\n",
    "We should be very detailed here, I noticed that Antonia's pyborg post was not super detailed/clear. \n",
    "\n",
    "Also, the ```setup.py``` method she describes is outdated, and prompts a warning.  Instead, we can just mention the dependencies and recommend pip installs for each (i think Platypus and Six are the only non-common libraries)"
   ]
  },
  {
   "cell_type": "markdown",
   "id": "a5f37940",
   "metadata": {},
   "source": [
    "### Initializing the problem\n",
    "\n",
    "Show how to define decision variables, etc.\n",
    "\n",
    "\n"
   ]
  },
  {
   "cell_type": "code",
   "execution_count": null,
   "id": "4371cc9e",
   "metadata": {},
   "outputs": [],
   "source": [
    "# Code for initializing the problem using PyBorg\n",
    "problem = ...\n",
    "algorithm = BorgMOEA()\n"
   ]
  },
  {
   "cell_type": "markdown",
   "id": "65512416",
   "metadata": {},
   "source": [
    "### Run the algorithm\n",
    "\n",
    "First, run the algorithm with a small NFE to make sure things are working. \n"
   ]
  },
  {
   "cell_type": "code",
   "execution_count": null,
   "id": "b84c7294",
   "metadata": {},
   "outputs": [],
   "source": [
    "# Run the algorithm\n",
    "algorithm.run(300)\n",
    "\n",
    "# Plot the results\n",
    "plt.plot()"
   ]
  },
  {
   "cell_type": "markdown",
   "id": "560372ac",
   "metadata": {},
   "source": [
    "The objectives scores arn't very good, but that is because the number of function evaluations is so low. In order to get a better set of solutions, we need to run the MOEA for many function evaluations.  \n",
    "\n",
    "The next section demonstrates the change in objective performance with respect to the number of function evaluations.\n"
   ]
  },
  {
   "cell_type": "markdown",
   "id": "856f6c69",
   "metadata": {},
   "source": [
    "### MOEA Diagnostics\n",
    "\n",
    "Explain why to do diagnostic tests.\n",
    "\n",
    "Reed group Alum Prof. [Joe Kasprzyk wrote a post describing three common MOEA diagnostic metrics](https://waterprogramming.wordpress.com/2013/06/25/moea-performance-metrics/): generational distance, epsilon indicator, and hypervolume. \n",
    "\n",
    "#### Hypervolume\n",
    "\n",
    "The hypervolume is a measure of the multi-dimensional volume _dominated_ by the approximated pareto front. As the pareto front advances toward the \"_ideal_\" solution, this value approaches 1. \n",
    "\n",
    "The efficiency of an MOEA in optimizing a solution can be considered by measuring the hypervolume with respect to the number of function evaluations. This allows the user to understand how quickly the MOEA is converging to a good set of solutions, and how many function evaluations are needed to achieve a good set of solutions.\n"
   ]
  }
 ],
 "metadata": {
  "kernelspec": {
   "display_name": "Python 3 (ipykernel)",
   "language": "python",
   "name": "python3"
  },
  "language_info": {
   "codemirror_mode": {
    "name": "ipython",
    "version": 3
   },
   "file_extension": ".py",
   "mimetype": "text/x-python",
   "name": "python",
   "nbconvert_exporter": "python",
   "pygments_lexer": "ipython3",
   "version": "3.8.13"
  }
 },
 "nbformat": 4,
 "nbformat_minor": 5
}
