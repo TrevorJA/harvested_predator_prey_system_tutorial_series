{
 "cells": [
  {
   "cell_type": "markdown",
   "id": "5354ba7c",
   "metadata": {},
   "source": [
    "# Fisheries Training Part 1 - Harvest Optimization and MOEA Diagnostics\n",
    "\n",
    "This is the second post in a training series, studying decision making under deep uncertainty within the context of a complex harvested predator-prey fishery. \n",
    "\n",
    "The first post in this training series, [Fisheries Training 0: Exploring Predator-Prey Dynamics, can be found here](https://waterprogramming.wordpress.com/2022/07/11/__trashed-3/). \n",
    "\n",
    "The GitHub repository, containing all of the source code used throughout this series, is available [here](https://github.com/TrevorJA/harvested_predator_prey_system_tutorial_series). "
   ]
  },
  {
   "cell_type": "markdown",
   "id": "23b57b56",
   "metadata": {},
   "source": [
    "## Harvested predator-prey model\n",
    "\n",
    "Re-vist the ODEs here.\n",
    "\n"
   ]
  },
  {
   "cell_type": "markdown",
   "id": "06c700a7",
   "metadata": {},
   "source": [
    "## Harvest strategy objectives (Trevor)\n",
    "\n",
    "\n",
    "#### Objective #1: \n",
    "\n",
    "\n",
    "#### Objective #2:\n",
    "\n",
    "\n",
    "#### Objective #3:\n",
    "\n",
    "\n",
    "#### Objective #4:\n",
    "\n"
   ]
  },
  {
   "cell_type": "code",
   "execution_count": null,
   "id": "6edb0a6b",
   "metadata": {},
   "outputs": [],
   "source": [
    "# Import common libraries\n",
    "import numpy as np\n",
    "import matplotlib.plot as plt\n"
   ]
  },
  {
   "cell_type": "code",
   "execution_count": null,
   "id": "9f518572",
   "metadata": {},
   "outputs": [],
   "source": [
    "# Code for the fish game here, with objective outputs\n",
    "\n",
    "def fish_game():\n",
    "    \n",
    "    return\n"
   ]
  },
  {
   "cell_type": "markdown",
   "id": "cc8bd6f3",
   "metadata": {},
   "source": [
    "## PyBorg (Lillian)\n",
    "\n",
    "Text body.\n",
    "\n",
    "Mention how it is paired with Platypus as well"
   ]
  },
  {
   "cell_type": "markdown",
   "id": "f1cc6fff",
   "metadata": {},
   "source": [
    "### Import all libraries\n",
    "All functions required for this post can be found in the fish_game_functions.py file. This code is adapted from [Antonia Hadjimichael's original post](https://waterprogramming.wordpress.com/2021/08/13/introduction-to-pyborg-basic-setup-and-running/) on exploring the Fisheries Game dynamics using PyBorg"
   ]
  },
  {
   "cell_type": "code",
   "execution_count": 7,
   "id": "84545cf7",
   "metadata": {},
   "outputs": [
    {
     "ename": "ImportError",
     "evalue": "cannot import name 'Problem' from 'platypus' (C:\\Users/lbl59/AppData/Local/Programs/Python/Python39/Lib/site-packages\\platypus\\__init__.py)",
     "output_type": "error",
     "traceback": [
      "\u001b[1;31m---------------------------------------------------------------------------\u001b[0m",
      "\u001b[1;31mImportError\u001b[0m                               Traceback (most recent call last)",
      "\u001b[1;32m~\\AppData\\Local\\Temp/ipykernel_44420/818481750.py\u001b[0m in \u001b[0;36m<module>\u001b[1;34m\u001b[0m\n\u001b[0;32m      2\u001b[0m \u001b[1;32mimport\u001b[0m \u001b[0msys\u001b[0m\u001b[1;33m\u001b[0m\u001b[1;33m\u001b[0m\u001b[0m\n\u001b[0;32m      3\u001b[0m \u001b[0msys\u001b[0m\u001b[1;33m.\u001b[0m\u001b[0mpath\u001b[0m\u001b[1;33m.\u001b[0m\u001b[0mappend\u001b[0m\u001b[1;33m(\u001b[0m\u001b[1;34m'C:/Users/lbl59/AppData/Local/Programs/Python/Python39/Lib/site-packages/platypus'\u001b[0m\u001b[1;33m)\u001b[0m\u001b[1;33m\u001b[0m\u001b[1;33m\u001b[0m\u001b[0m\n\u001b[1;32m----> 4\u001b[1;33m \u001b[1;32mfrom\u001b[0m \u001b[0mplatypus\u001b[0m \u001b[1;32mimport\u001b[0m \u001b[0mProblem\u001b[0m\u001b[1;33m,\u001b[0m \u001b[0mReal\u001b[0m\u001b[1;33m,\u001b[0m \u001b[0mHypervolume\u001b[0m\u001b[1;33m,\u001b[0m \u001b[0mGenerator\u001b[0m\u001b[1;33m\u001b[0m\u001b[1;33m\u001b[0m\u001b[0m\n\u001b[0m\u001b[0;32m      5\u001b[0m \u001b[1;32mfrom\u001b[0m \u001b[0mpyborg\u001b[0m \u001b[1;32mimport\u001b[0m \u001b[0mBorgMOEA\u001b[0m\u001b[1;33m\u001b[0m\u001b[1;33m\u001b[0m\u001b[0m\n\u001b[0;32m      6\u001b[0m from fish_game_functions import (fish_game_5_objs, fish_game_3_objs, plot_3d_tradeoff, \n",
      "\u001b[1;31mImportError\u001b[0m: cannot import name 'Problem' from 'platypus' (C:\\Users/lbl59/AppData/Local/Programs/Python/Python39/Lib/site-packages\\platypus\\__init__.py)"
     ]
    }
   ],
   "source": [
    "# import all required libraries\n",
    "import sys\n",
    "sys.path.append('C:/Users/lbl59/AppData/Local/Programs/Python/Python39/Lib/site-packages/platypus')\n",
    "from platypus import Problem, Real, Hypervolume, Generator\n",
    "from pyborg import BorgMOEA\n",
    "from fish_game_functions import (fish_game_5_objs, fish_game_3_objs, plot_3d_tradeoff, \n",
    "                                 runtime_hvol, plot_runtime)\n",
    "import matplotlib.pyplot as plt\n",
    "import time"
   ]
  },
  {
   "cell_type": "code",
   "execution_count": 10,
   "id": "6262e59a",
   "metadata": {},
   "outputs": [
    {
     "data": {
      "application/vnd.jupyter.widget-view+json": {
       "model_id": "f6b78fee80134dcdbc4b736eb258fe16",
       "version_major": 2,
       "version_minor": 0
      },
      "text/plain": [
       "Dropdown(options=('5-objective', '3-objective'), value='5-objective')"
      ]
     },
     "metadata": {},
     "output_type": "display_data"
    }
   ],
   "source": [
    "import ipywidgets as widgets\n",
    "# Based on Hadjimichael et al 2020\n",
    "prob_formulation = widgets.Dropdown(options=['5-objective', '3-objective'],\n",
    "                         description='', value='5-objective', disabled=False)\n",
    "prob_formulation"
   ]
  },
  {
   "cell_type": "markdown",
   "id": "a5f37940",
   "metadata": {},
   "source": [
    "### Initializing the problem\n",
    "\n",
    "Define number of decision variables, constraints, and specify problem formulation (3- or 5-objective)"
   ]
  },
  {
   "cell_type": "code",
   "execution_count": 11,
   "id": "4371cc9e",
   "metadata": {},
   "outputs": [
    {
     "ename": "NameError",
     "evalue": "name 'Problem' is not defined",
     "output_type": "error",
     "traceback": [
      "\u001b[1;31m---------------------------------------------------------------------------\u001b[0m",
      "\u001b[1;31mNameError\u001b[0m                                 Traceback (most recent call last)",
      "\u001b[1;32m~\\AppData\\Local\\Temp/ipykernel_44420/547597825.py\u001b[0m in \u001b[0;36m<module>\u001b[1;34m\u001b[0m\n\u001b[0;32m      7\u001b[0m \u001b[0mnCnstr\u001b[0m \u001b[1;33m=\u001b[0m \u001b[1;36m1\u001b[0m      \u001b[1;31m# Define number of decision constraints\u001b[0m\u001b[1;33m\u001b[0m\u001b[1;33m\u001b[0m\u001b[0m\n\u001b[0;32m      8\u001b[0m \u001b[1;33m\u001b[0m\u001b[0m\n\u001b[1;32m----> 9\u001b[1;33m \u001b[0mproblem\u001b[0m \u001b[1;33m=\u001b[0m \u001b[0mProblem\u001b[0m\u001b[1;33m(\u001b[0m\u001b[0mnVars\u001b[0m\u001b[1;33m,\u001b[0m \u001b[0mnObjs\u001b[0m\u001b[1;33m,\u001b[0m \u001b[0mnCnstr\u001b[0m\u001b[1;33m)\u001b[0m\u001b[1;33m\u001b[0m\u001b[1;33m\u001b[0m\u001b[0m\n\u001b[0m\u001b[0;32m     10\u001b[0m \u001b[1;33m\u001b[0m\u001b[0m\n\u001b[0;32m     11\u001b[0m \u001b[1;31m# set bounds for each decision variable\u001b[0m\u001b[1;33m\u001b[0m\u001b[1;33m\u001b[0m\u001b[0m\n",
      "\u001b[1;31mNameError\u001b[0m: name 'Problem' is not defined"
     ]
    }
   ],
   "source": [
    "nVars = 6   # Define number of decision variables\n",
    "nObjs = 5\n",
    "if prob_formulation == '5-objective':\n",
    "    nObjs = 5\n",
    "elif prob_formulation == '3-objective':\n",
    "    nObjs = 3\n",
    "nCnstr = 1      # Define number of decision constraints\n",
    "\n",
    "problem = Problem(nVars, nObjs, nCnstr)     \n",
    "\n",
    "# set bounds for each decision variable\n",
    "problem.types[0] = Real(0.0, 1.0)\n",
    "problem.types[1] = Real(0.0, 1.0)\n",
    "problem.types[2] = Real(0.0, 1.0)\n",
    "problem.types[3] = Real(0.0, 1.0)\n",
    "problem.types[4] = Real(0.0, 1.0)\n",
    "problem.types[5] = Real(0.0, 1.0)\n",
    "\n",
    "# all values should be nonzero\n",
    "problem.constraints[:] = \"==0\"\n",
    "\n",
    "# set problem function\n",
    "if nObjs == 5:\n",
    "    problem.function = fish_game_5_objs\n",
    "else:\n",
    "    problem.function = fish_game_3_objs\n",
    "\n",
    "algorithm = BorgMOEA(problem, epsilons=0.001)"
   ]
  },
  {
   "cell_type": "markdown",
   "id": "65512416",
   "metadata": {},
   "source": [
    "### Run the algorithm\n",
    "\n",
    "First, run the algorithm with a small NFE to make sure things are working. It is also advisable to time the run to gauge the amount of time you will require to run more NFEs.\n",
    "\n",
    "**Need to include explanations for abbreviations used for the objectives**"
   ]
  },
  {
   "cell_type": "code",
   "execution_count": null,
   "id": "b84c7294",
   "metadata": {},
   "outputs": [],
   "source": [
    "# begin timing the borg run\n",
    "borg_start_time = time.time()\n",
    "\n",
    "# begin optimization\n",
    "algorithm.run(100)\n",
    "\n",
    "# end timing\n",
    "borg_end_time = time.time()\n",
    "\n",
    "# calculate and print total time taken for optimization with PyBorg\n",
    "borg_total_time = borg_end_time - borg_start_time\n",
    "\n",
    "print(f\"borg_total_time={borg_total_time}s\")"
   ]
  },
  {
   "cell_type": "markdown",
   "id": "560372ac",
   "metadata": {},
   "source": [
    "The objectives scores arn't very good, but that is because the number of function evaluations is so low. In order to get a better set of solutions, we need to run the MOEA for many function evaluations.  \n",
    "\n",
    "The next section demonstrates the change in objective performance with respect to the number of function evaluations.\n"
   ]
  },
  {
   "cell_type": "markdown",
   "id": "fd1df250",
   "metadata": {},
   "source": [
    "### Plot the tradeoff surface\n",
    "Here, we plot a 3-dimensional plot showing the tradeoff between a select number of objectives. If you have selected the 5-objective problem formulation, you can select the three objectives you would like to analyze the tradeoff surface for."
   ]
  },
  {
   "cell_type": "code",
   "execution_count": null,
   "id": "7f932583",
   "metadata": {},
   "outputs": [],
   "source": [
    "# Plot objective tradeoff surface\n",
    "fig_objs = plt.figure()\n",
    "ax_objs = fig_objs.add_subplot(111, projection='3d')\n",
    "\n",
    "objs_indices = [0, 1, 2]\n",
    "obj_labels = ['Mean NPV', 'Mean prey deficit', 'Mean WCLH']\n",
    "obj_min = [-6000, 0, 0]\n",
    "\n",
    "plot_3d_tradeoff(algorithm, ax_objs, objs_indices, obj_labels, obj_min)"
   ]
  },
  {
   "cell_type": "markdown",
   "id": "856f6c69",
   "metadata": {},
   "source": [
    "### MOEA Diagnostics\n",
    "\n",
    "Explain why to do diagnostic tests.\n",
    "\n",
    "Reed group Alum Prof. [Joe Kasprzyk wrote a post describing three common MOEA diagnostic metrics](https://waterprogramming.wordpress.com/2013/06/25/moea-performance-metrics/): generational distance, epsilon indicator, and hypervolume. \n",
    "\n",
    "#### Hypervolume\n",
    "\n",
    "The hypervolume is a measure of the multi-dimensional volume _dominated_ by the approximated pareto front. As the pareto front advances toward the \"_ideal_\" solution, this value approaches 1. \n",
    "\n",
    "The efficiency of an MOEA in optimizing a solution can be considered by measuring the hypervolume with respect to the number of function evaluations. This allows the user to understand how quickly the MOEA is converging to a good set of solutions, and how many function evaluations are needed to achieve a good set of solutions.\n"
   ]
  }
 ],
 "metadata": {
  "kernelspec": {
   "display_name": "Python 3 (ipykernel)",
   "language": "python",
   "name": "python3"
  },
  "language_info": {
   "codemirror_mode": {
    "name": "ipython",
    "version": 3
   },
   "file_extension": ".py",
   "mimetype": "text/x-python",
   "name": "python",
   "nbconvert_exporter": "python",
   "pygments_lexer": "ipython3",
   "version": "3.9.7"
  }
 },
 "nbformat": 4,
 "nbformat_minor": 5
}
