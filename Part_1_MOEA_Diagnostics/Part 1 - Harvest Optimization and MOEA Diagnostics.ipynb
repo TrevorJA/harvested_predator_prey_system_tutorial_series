{
 "cells": [
  {
   "cell_type": "markdown",
   "id": "18c1710e",
   "metadata": {},
   "source": [
    "# Fisheries Training Part 1 - Harvest Optimization and MOEA Diagnostics\n",
    "\n",
    "This is the second post in a training series, studying decision making under deep uncertainty within the context of a complex harvested predator-prey fishery. \n",
    "\n",
    "The first post in this training series, [Fisheries Training 0: Exploring Predator-Prey Dynamics, can be found here](https://waterprogramming.wordpress.com/2022/07/11/__trashed-3/). \n",
    "\n",
    "The GitHub repository, containing all of the source code used throughout this series, is available [here](https://github.com/TrevorJA/harvested_predator_prey_system_tutorial_series). "
   ]
  },
  {
   "cell_type": "markdown",
   "id": "857b1cea",
   "metadata": {},
   "source": [
    "## Harvested predator-prey model\n",
    "\n",
    "Re-vist the ODEs here.\n",
    "\n"
   ]
  },
  {
   "cell_type": "markdown",
   "id": "ccb1185f",
   "metadata": {},
   "source": [
    "## Harvest strategy objectives\n",
    "\n",
    "\n",
    "#### Objective #1: \n",
    "\n",
    "\n",
    "#### Objective #2:\n",
    "\n",
    "\n",
    "#### Objective #3:\n",
    "\n",
    "\n",
    "#### Objective #4:\n",
    "\n"
   ]
  },
  {
   "cell_type": "code",
   "execution_count": null,
   "id": "a51e3763",
   "metadata": {},
   "outputs": [],
   "source": []
  }
 ],
 "metadata": {
  "kernelspec": {
   "display_name": "Python 3 (ipykernel)",
   "language": "python",
   "name": "python3"
  },
  "language_info": {
   "codemirror_mode": {
    "name": "ipython",
    "version": 3
   },
   "file_extension": ".py",
   "mimetype": "text/x-python",
   "name": "python",
   "nbconvert_exporter": "python",
   "pygments_lexer": "ipython3",
   "version": "3.8.13"
  }
 },
 "nbformat": 4,
 "nbformat_minor": 5
}
