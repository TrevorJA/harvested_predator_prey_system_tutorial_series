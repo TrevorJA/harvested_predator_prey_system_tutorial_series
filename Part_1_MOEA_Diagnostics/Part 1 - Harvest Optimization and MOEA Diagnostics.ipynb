{
 "cells": [
  {
   "cell_type": "markdown",
   "id": "5354ba7c",
   "metadata": {},
   "source": [
    "# Fisheries Training Part 1 - Harvest Optimization and MOEA Diagnostics\n",
    "\n",
    "This is the second post in a training series, studying decision making under deep uncertainty within the context of a complex harvested predator-prey fishery. \n",
    "\n",
    "The first post in this training series, [Fisheries Training 0: Exploring Predator-Prey Dynamics, can be found here](https://waterprogramming.wordpress.com/2022/07/11/__trashed-3/). \n",
    "\n",
    "The GitHub repository, containing all of the source code used throughout this series, is available [here](https://github.com/TrevorJA/harvested_predator_prey_system_tutorial_series). "
   ]
  },
  {
   "cell_type": "markdown",
   "id": "23b57b56",
   "metadata": {},
   "source": [
    "## Harvested predator-prey model (Trevor)\n",
    "\n",
    "Re-vist the ODEs here.\n",
    "\n"
   ]
  },
  {
   "cell_type": "markdown",
   "id": "90475f46",
   "metadata": {},
   "source": [
    "## Harvesting policy - Radial Basis Functions\n",
    "\n",
    "\n",
    "\n",
    "\n",
    "The function ```harvest_streategy()``` is contained within the ```fish_game``` script, which can be accessed [here in the repository](https://github.com/TrevorJA/harvested_predator_prey_system_tutorial_series/blob/main/Part_1_MOEA_Diagnostics/fish_game.py).\n",
    "\n",
    "The ```harvest_strategy()``` function uses the RBF parameter values (i.e., \\\\(c_i, b_i,\\\\) and w_i)\n",
    "\n",
    "returns ...\n",
    "\n",
    "```python\n",
    "def harvest_strategy(population, RBF_params, nRBFs = 2):\n",
    "    ...\n",
    "    harvest_effort = ...\n",
    "    ...\n",
    "    return harvest_effort \n",
    "```\n",
    "\n",
    "At every timestep "
   ]
  },
  {
   "cell_type": "markdown",
   "id": "06c700a7",
   "metadata": {},
   "source": [
    "## Harvest strategy objectives (Trevor)\n",
    "\n",
    "\n",
    "#### Objective #1: \n",
    "\n",
    "\n",
    "#### Objective #2:\n",
    "\n",
    "\n",
    "#### Objective #3:\n",
    "\n",
    "\n",
    "#### Objective #4:\n",
    "\n"
   ]
  },
  {
   "cell_type": "markdown",
   "id": "9e0be30d",
   "metadata": {},
   "source": [
    "## Building a model of the harvested system\n",
    "\n",
    "Here, I provide an overview of the ```fish_game()``` model which combines many of the preceeding topics. The goal for this model is to take a set of RBF parameters, which define the harvesting strategy, simulate the policy for some length of time, and then return the objective score. \n",
    "\n",
    "Later, this model is what will be used with a Multi-Objective Evolutionary Algorithm, which will evaluate thousands of policies (RBF parameter combinations) and attempt to find those policies with the best objective performance. \n",
    "\n",
    "The model process is...\n",
    "\n",
    "\n",
    "```python\n",
    "def fish_game(RBF_params):\n",
    "\n",
    "    return objectives, constraint\n",
    "```"
   ]
  },
  {
   "cell_type": "code",
   "execution_count": 2,
   "id": "6edb0a6b",
   "metadata": {},
   "outputs": [],
   "source": [
    "# Import common libraries\n",
    "import numpy as np\n",
    "import matplotlib.pyplot as plt\n"
   ]
  },
  {
   "cell_type": "code",
   "execution_count": null,
   "id": "9f518572",
   "metadata": {},
   "outputs": [],
   "source": [
    "# Code for the fish game here, with objective outputs\n",
    "\n",
    "def fish_game():\n",
    "    \n",
    "    return\n"
   ]
  },
  {
   "cell_type": "markdown",
   "id": "cc8bd6f3",
   "metadata": {},
   "source": [
    "## PyBorg (Lillian)\n",
    "\n",
    "Brief summary of pyborg.\n",
    "\n",
    "Mention how it is paired with Platypus as well\n",
    "\n",
    "## Installation (Lillian)\n",
    "\n",
    "We should be very detailed here, I noticed that Antonia's pyborg post was not super detailed/clear. \n",
    "\n",
    "Also, the ```setup.py``` method she describes is outdated, and prompts a warning.  Instead, we can just mention the dependencies and recommend pip installs for each (i think Platypus and Six are the only non-common libraries)"
   ]
  },
  {
   "cell_type": "markdown",
   "id": "f1cc6fff",
   "metadata": {},
   "source": [
    "### Import all libraries\n",
    "All functions required for this post can be found in the fish_game_functions.py file. This code is adapted from [Antonia Hadjimichael's original post](https://waterprogramming.wordpress.com/2021/08/13/introduction-to-pyborg-basic-setup-and-running/) on exploring the Fisheries Game dynamics using PyBorg"
   ]
  },
  {
   "cell_type": "code",
   "execution_count": 2,
   "id": "84545cf7",
   "metadata": {},
<<<<<<< HEAD
   "outputs": [
    {
     "data": {
      "text/plain": [
       "'\\nObj1: Mean NPV for all realizations\\nObj2: Mean prey deficit\\nObj3: Mean worst case of consecutive low harvest across realizations\\nObj4: Mean 1st percentile of all harvests\\nObj5: Mean variance of harvest\\n'"
      ]
     },
     "execution_count": 2,
     "metadata": {},
     "output_type": "execute_result"
    }
   ],
||||||| 019d6f9
   "outputs": [
    {
     "ename": "ImportError",
     "evalue": "cannot import name 'Problem' from 'platypus' (C:\\Users/lbl59/AppData/Local/Programs/Python/Python39/Lib/site-packages\\platypus\\__init__.py)",
     "output_type": "error",
     "traceback": [
      "\u001b[1;31m---------------------------------------------------------------------------\u001b[0m",
      "\u001b[1;31mImportError\u001b[0m                               Traceback (most recent call last)",
      "\u001b[1;32m~\\AppData\\Local\\Temp/ipykernel_44420/818481750.py\u001b[0m in \u001b[0;36m<module>\u001b[1;34m\u001b[0m\n\u001b[0;32m      2\u001b[0m \u001b[1;32mimport\u001b[0m \u001b[0msys\u001b[0m\u001b[1;33m\u001b[0m\u001b[1;33m\u001b[0m\u001b[0m\n\u001b[0;32m      3\u001b[0m \u001b[0msys\u001b[0m\u001b[1;33m.\u001b[0m\u001b[0mpath\u001b[0m\u001b[1;33m.\u001b[0m\u001b[0mappend\u001b[0m\u001b[1;33m(\u001b[0m\u001b[1;34m'C:/Users/lbl59/AppData/Local/Programs/Python/Python39/Lib/site-packages/platypus'\u001b[0m\u001b[1;33m)\u001b[0m\u001b[1;33m\u001b[0m\u001b[1;33m\u001b[0m\u001b[0m\n\u001b[1;32m----> 4\u001b[1;33m \u001b[1;32mfrom\u001b[0m \u001b[0mplatypus\u001b[0m \u001b[1;32mimport\u001b[0m \u001b[0mProblem\u001b[0m\u001b[1;33m,\u001b[0m \u001b[0mReal\u001b[0m\u001b[1;33m,\u001b[0m \u001b[0mHypervolume\u001b[0m\u001b[1;33m,\u001b[0m \u001b[0mGenerator\u001b[0m\u001b[1;33m\u001b[0m\u001b[1;33m\u001b[0m\u001b[0m\n\u001b[0m\u001b[0;32m      5\u001b[0m \u001b[1;32mfrom\u001b[0m \u001b[0mpyborg\u001b[0m \u001b[1;32mimport\u001b[0m \u001b[0mBorgMOEA\u001b[0m\u001b[1;33m\u001b[0m\u001b[1;33m\u001b[0m\u001b[0m\n\u001b[0;32m      6\u001b[0m from fish_game_functions import (fish_game_5_objs, fish_game_3_objs, plot_3d_tradeoff, \n",
      "\u001b[1;31mImportError\u001b[0m: cannot import name 'Problem' from 'platypus' (C:\\Users/lbl59/AppData/Local/Programs/Python/Python39/Lib/site-packages\\platypus\\__init__.py)"
     ]
    }
   ],
=======
   "outputs": [],
>>>>>>> 0533c5ab6fc51bcb6218a0e66c5c7fb7ed8981b0
   "source": [
    "# import all required libraries\n",
<<<<<<< HEAD
||||||| 019d6f9
    "import sys\n",
    "sys.path.append('C:/Users/lbl59/AppData/Local/Programs/Python/Python39/Lib/site-packages/platypus')\n",
    "from platypus import Problem, Real, Hypervolume, Generator\n",
    "from pyborg import BorgMOEA\n",
    "from fish_game_functions import (fish_game_5_objs, fish_game_3_objs, plot_3d_tradeoff, \n",
    "                                 runtime_hvol, plot_runtime)\n",
=======
    "import sys\n",
    "from platypus import Problem, Real, Hypervolume, Generator\n",
    "from pyborg import BorgMOEA\n",
    "from fish_game_functions import fish_game_5_objs, fish_game_3_objs, runtime_hvol\n",
    "from fish_game_functions import plot_3d_tradeoff, plot_runtime\n",
>>>>>>> 0533c5ab6fc51bcb6218a0e66c5c7fb7ed8981b0
    "import matplotlib.pyplot as plt\n",
    "import time\n",
    "import ipywidgets as widgets\n",
    "from ipywidgets import HBox, VBox, Layout, Label\n",
    "import random\n",
    "\n",
    "'''\n",
    "Obj1: Mean NPV for all realizations\n",
    "Obj2: Mean prey deficit\n",
    "Obj3: Mean worst case of consecutive low harvest across realizations\n",
    "Obj4: Mean 1st percentile of all harvests\n",
    "Obj5: Mean variance of harvest\n",
    "'''"
   ]
  },
  {
   "cell_type": "code",
<<<<<<< HEAD
   "execution_count": 3,
||||||| 019d6f9
   "execution_count": 10,
=======
   "execution_count": 8,
>>>>>>> 0533c5ab6fc51bcb6218a0e66c5c7fb7ed8981b0
   "id": "6262e59a",
   "metadata": {},
   "outputs": [
    {
     "data": {
      "application/vnd.jupyter.widget-view+json": {
<<<<<<< HEAD
       "model_id": "c327529d62ec4ebc8339d9e5f3f4f628",
||||||| 019d6f9
       "model_id": "f6b78fee80134dcdbc4b736eb258fe16",
=======
       "model_id": "8fe116c358c04ed4b7e50a507b7a9027",
>>>>>>> 0533c5ab6fc51bcb6218a0e66c5c7fb7ed8981b0
       "version_major": 2,
       "version_minor": 0
      },
      "text/plain": [
       "Dropdown(options=('5-objective', '3-objective'), value='5-objective')"
      ]
     },
     "metadata": {},
     "output_type": "display_data"
    }
   ],
   "source": [
    "import ipywidgets as widgets\n",
    "# Based on Hadjimichael et al 2020\n",
    "prob_formulation = widgets.Dropdown(options=['5-objective', '3-objective'],\n",
    "                         description='', value='5-objective', disabled=False)\n",
    "prob_formulation"
   ]
  },
  {
   "cell_type": "markdown",
   "id": "a5f37940",
   "metadata": {},
   "source": [
    "### Initializing the problem\n",
    "\n",
    "Define number of decision variables, constraints, and specify problem formulation (3- or 5-objective)"
   ]
  },
  {
   "cell_type": "code",
<<<<<<< HEAD
   "execution_count": null,
||||||| 019d6f9
   "execution_count": 11,
=======
   "execution_count": 9,
>>>>>>> 0533c5ab6fc51bcb6218a0e66c5c7fb7ed8981b0
   "id": "4371cc9e",
   "metadata": {},
   "outputs": [],
   "source": [
    "from fish_game_functions import *\n",
    "import pyborg\n",
    "from platypus import (Problem, Real, Hypervolume)\n",
    "from pyborg import BorgMOEA\n",
    "# Set the number of decision variables, constraints and performance objectives\n",
    "nVars = 6   # Define number of decision variables\n",
    "nObjs = 5\n",
    "if prob_formulation == '5-objective':\n",
    "    nObjs = 5\n",
    "elif prob_formulation == '3-objective':\n",
    "    nObjs = 3\n",
    "nCnstr = 1      # Define number of decision constraints\n",
    "\n",
    "# Define the upper and lower bounds of the performance objectives\n",
    "objs_lower_bounds = [-6000, 0, 0, -250, 0]\n",
    "objs_upper_bounds = [0, 1, 100, 0, 32000]"
   ]
  },
  {
   "cell_type": "markdown",
   "id": "65512416",
   "metadata": {},
   "source": [
    "### Initialize the optimization\n",
    "The user has the option to set their preferred NFE and intial population size<br>\n",
    "**Need to include explanations for abbreviations used for the objectives**"
   ]
  },
  {
   "cell_type": "code",
   "execution_count": 10,
   "id": "b84c7294",
   "metadata": {},
<<<<<<< HEAD
   "outputs": [
    {
     "data": {
      "application/vnd.jupyter.widget-view+json": {
       "model_id": "b5c44eaf4d394c419e9542ce3982f8fa",
       "version_major": 2,
       "version_minor": 0
      },
      "text/plain": [
       "HBox(children=(VBox(children=(Label(value='Initial NFE: '), Label(value='Initial population size: '))), VBox(c…"
      ]
     },
     "metadata": {},
     "output_type": "display_data"
    }
   ],
||||||| 019d6f9
   "outputs": [],
=======
   "outputs": [
    {
     "name": "stdout",
     "output_type": "stream",
     "text": [
      "borg_total_time=33.3858757019043s\n"
     ]
    }
   ],
>>>>>>> 0533c5ab6fc51bcb6218a0e66c5c7fb7ed8981b0
   "source": [
    "# initialize the optimization\n",
    "init_list = ['Initial NFE: ', 'Initial population size: ']\n",
    "init_labels = [Label(i) for i in init_list]\n",
    "\n",
    "init_nfe = widgets.IntText(value=100, description='Any', disabled=False)\n",
    "init_pop_size = widgets.IntText(value=100, description='Any', disabled=False)\n",
    "\n",
    "list_of_inits = [init_nfe, init_pop_size]\n",
    "\n",
    "HBox([VBox(init_labels), VBox(list_of_inits)])\n",
    "box_layout_inits = widgets.Layout(display='flex', flex_flow = 'row', align_items ='center', justify_content = 'center')\n",
    "\n",
    "init_widget = HBox([VBox(init_labels), VBox(list_of_inits)])\n",
    "box_layout_inits = widgets.Layout(display='flex', flex_flow = 'row', align_items ='center', justify_content = 'center')\n",
    "init_widget"
   ]
  },
  {
   "cell_type": "markdown",
   "id": "560372ac",
   "metadata": {},
   "source": [
    "The objectives scores arn't very good, but that is because the number of function evaluations is so low. In order to get a better set of solutions, we need to run the MOEA for many function evaluations.  \n",
    "\n",
    "The next section demonstrates the change in objective performance with respect to the number of function evaluations.\n"
   ]
  },
  {
   "cell_type": "markdown",
   "id": "b563bc16",
   "metadata": {},
   "source": [
    "### Begin the optimization\n",
    "Here, we also time the optimization to get a general estimate on the time the full hypervolume analysis will require."
   ]
  },
  {
   "cell_type": "code",
   "execution_count": null,
   "id": "7afb7009",
   "metadata": {},
   "outputs": [],
   "source": [
    "# begin timing the Borg run\n",
    "borg_start_time = time.time()\n",
    "\n",
    "algorithm = fisheries_game_problem_setup(nVars, nObjs, nCnstr, pop_size=int(init_pop_size))\n",
    "algorithm.run(int(init_nfe))\n",
    "\n",
    "# end timing and print optimization time \n",
    "borg_end_time = time.time()\n",
    "\n",
    "borg_total_time = borg_end_time - borg_start_time\n",
    "\n",
    "print(f\"borg_total_time={borg_total_time}s\")"
   ]
  },
  {
   "cell_type": "markdown",
   "id": "a3dca0bd",
   "metadata": {},
   "source": [
    "### Interactively select objectives to plot\n",
    "The user can select the objectives that they wish to plot."
   ]
  },
  {
   "cell_type": "code",
   "execution_count": 9,
   "id": "62b12e1e",
   "metadata": {},
   "outputs": [
    {
     "data": {
      "application/vnd.jupyter.widget-view+json": {
       "model_id": "7d3025f7882941958d9d22abcc704782",
       "version_major": 2,
       "version_minor": 0
      },
      "text/plain": [
       "HBox(children=(VBox(children=(Label(value='Objective 1'), Label(value='Objective 2'), Label(value='Objective 3…"
      ]
     },
     "metadata": {},
     "output_type": "display_data"
    }
   ],
   "source": [
    "objs_list = ['Objective 1', 'Objective 2', 'Objective 3']\n",
    "\n",
    "obj1 = widgets.Dropdown(options=['Mean NPV', 'Mean prey deficit', 'Mean WCLH', \n",
    "                                 'Mean 1% harvest', 'Mean harvest variance'],\n",
    "                         description='', value='Mean NPV', disabled=False)\n",
    "obj2 = widgets.Dropdown(options=['Mean NPV', 'Mean prey deficit', 'Mean WCLH', \n",
    "                                 'Mean 1% harvest', 'Mean harvest variance'],\n",
    "                         description='', value='Mean prey deficit', disabled=False)\n",
    "\n",
    "obj3 = widgets.Dropdown(options=['Mean NPV', 'Mean prey deficit', 'Mean WCLH', \n",
    "                                 'Mean 1% harvest', 'Mean harvest variance'],\n",
    "                         description='', value='Mean WCLH', disabled=False)\n",
    "\n",
    "list_of_objs = [Label(i) for i in objs_list]\n",
    "list_of_dropdowns = [obj1, obj2, obj3]\n",
    "\n",
    "tradeoff_widget = HBox([VBox(list_of_objs), VBox(list_of_dropdowns)])\n",
    "box_layout_objs = widgets.Layout(display='flex', flex_flow = 'row', align_items ='center', justify_content = 'center')\n",
    "tradeoff_widget"
   ]
  },
  {
   "cell_type": "markdown",
   "id": "fd1df250",
   "metadata": {},
   "source": [
    "### Plot the tradeoff surface\n",
    "Here, we plot a 3-dimensional plot showing the tradeoff between a select number of objectives. If you have selected the 5-objective problem formulation, you can select the three objectives you would like to analyze the tradeoff surface for."
   ]
  },
  {
   "cell_type": "code",
   "execution_count": null,
   "id": "7f932583",
   "metadata": {},
   "outputs": [],
   "source": [
    "# Plot objective tradeoff surface\n",
    "fig_objs = plt.figure(figsize=(8,8))\n",
    "ax_objs = fig_objs.add_subplot(111, projection='3d')\n",
    "\n",
    "objs_indices = []\n",
    "objs_labels = []\n",
    "objs_min = []\n",
    "\n",
    "if nObjs == 5:\n",
    "    objs_indices = [select_objective(obj1.value)[0], select_objective(obj2.value)[0], select_objective(obj2.value)[0]]\n",
    "    obj_labels = [obj1.value, obj2.value, obj3.value]\n",
    "    obj_min = [select_objective(obj1.value)[1], select_objective(obj2.value)[1], select_objective(obj2.value)[1]]\n",
    "else:\n",
    "    objs_indices = [0,1,2]\n",
    "    obj_labels = ['Mean NPV', 'Mean prey deficit', 'Mean WCLH']\n",
    "    obj_min = [-6000, 0, 0]\n",
    "\n",
    "plot_3d_tradeoff(algorithm, ax_objs, objs_indices, obj_labels, obj_min)"
   ]
  },
  {
   "cell_type": "markdown",
   "id": "856f6c69",
   "metadata": {},
   "source": [
    "### MOEA Diagnostics\n",
    "\n",
    "Explain why to do diagnostic tests.\n",
    "\n",
    "Reed group Alum Prof. [Joe Kasprzyk wrote a post describing three common MOEA diagnostic metrics](https://waterprogramming.wordpress.com/2013/06/25/moea-performance-metrics/): generational distance, epsilon indicator, and hypervolume. \n",
    "\n",
    "#### Hypervolume\n",
    "\n",
    "The hypervolume is a measure of the multi-dimensional volume _dominated_ by the approximated pareto front. As the pareto front advances toward the \"_ideal_\" solution, this value approaches 1. \n",
    "\n",
    "The efficiency of an MOEA in optimizing a solution can be considered by measuring the hypervolume with respect to the number of function evaluations. This allows the user to understand how quickly the MOEA is converging to a good set of solutions, and how many function evaluations are needed to achieve a good set of solutions.\n"
   ]
  },
  {
   "cell_type": "markdown",
   "id": "85a4ab02",
   "metadata": {},
   "source": [
    "### Setup the widget\n",
    "Will need to hide this from the broader user interface"
   ]
  },
  {
   "cell_type": "code",
   "execution_count": 13,
   "id": "190a69c0",
   "metadata": {},
   "outputs": [
    {
     "data": {
      "application/vnd.jupyter.widget-view+json": {
       "model_id": "19deceb30d6d4a138c2a9d04618b1a29",
       "version_major": 2,
       "version_minor": 0
      },
      "text/plain": [
       "HBox(children=(VBox(children=(Label(value='Max number of NFEs: '), Label(value='Step size: '))), VBox(children…"
      ]
     },
     "metadata": {},
     "output_type": "display_data"
    }
   ],
   "source": [
    "hvol_list = ['Max number of NFEs: ', 'Step size: ']\n",
    "maxevals = widgets.IntText(value=200, description='Any', disabled=False)\n",
    "frequency = widgets.IntText(value=100, description='Any', disabled=False)\n",
    "\n",
    "param_labels = [Label(i) for i in hvol_list]\n",
    "list_of_dropdowns = [maxevals, frequency]\n",
    "\n",
    "hvol_widget = HBox([VBox(param_labels), VBox(list_of_dropdowns)])\n",
    "box_layout_hvol = widgets.Layout(display='flex', flex_flow = 'row', align_items ='center', justify_content = 'center')\n",
    "hvol_widget"
   ]
  },
  {
   "cell_type": "markdown",
   "id": "3cf4728f",
   "metadata": {},
   "source": [
    "### Plotting the hypervolume\n",
    "Here, we make a basic plot of hypervolume vs NFE to show how the problem converges"
   ]
  },
  {
   "cell_type": "markdown",
   "id": "39199e5f",
   "metadata": {},
   "source": [
    "fig_hvol = plt.figure(figsize=(8,12))\n",
    "ax_hvol = fig_hvol.add_subplot()\n",
    "\n",
    "plot_hvol(algorithm, maxevals, frequency, objs_lower_bounds, objs_upper_bounds, ax_hvol)\n",
    "\n",
    "plt.title('PyBorg Runtime (Hypervolume)')\n",
    "plt.xlabel('Number of Function Evaluations')\n",
    "plt.ylabel('Hypervolume')\n",
    "plt.show()"
   ]
  },
  {
   "cell_type": "markdown",
   "id": "27594d72",
   "metadata": {},
   "source": [
    "### Perform random seed analysis\n",
    "We test out different initial population sizes. <br>\n",
    "Performed to show if pyBorg's performance is sensitive to the size of its initial population."
   ]
  },
  {
   "cell_type": "code",
   "execution_count": null,
   "id": "43a6bcde",
   "metadata": {},
   "outputs": [],
   "source": [
    "pop_size_list = [100, 200, 400, 800, 1000]\n",
    "\n",
    "fig_rand_seed = plt.figure(figsize=(8,12))\n",
    "ax_rand_seed = fig_rand_seed.add_subplot()\n",
    "\n",
    "for p in range(len(pop_size_list)):\n",
    "    fisheries_game_problem_setup(nVars, nObjs, nCnstr, pop_size_list[p])\n",
    "    algorithm = fisheries_game_problem_setup(nVars, nObjs, nCnstr, pop_size=int(init_pop_size))\n",
    "    algorithm.run(int(init_nfe))\n",
    "    \n",
    "    plot_hvol(maxevals, frequency, objs_lower_bounds, objs_upper_bounds, \n",
    "              ax_rand_seed, pop_size=pop_size_list[p])\n",
    "\n",
    "plt.title('PyBorg Random Seed Analysis')\n",
    "plt.xlabel('Number of Function Evaluations')\n",
    "plt.ylabel('Hypervolume')\n",
    "plt.legend()\n",
    "plt.show()"
   ]
  }
 ],
 "metadata": {
  "kernelspec": {
   "display_name": "Python 3 (ipykernel)",
   "language": "python",
   "name": "python3"
  },
  "language_info": {
   "codemirror_mode": {
    "name": "ipython",
    "version": 3
   },
   "file_extension": ".py",
   "mimetype": "text/x-python",
   "name": "python",
   "nbconvert_exporter": "python",
   "pygments_lexer": "ipython3",
   "version": "3.8.13"
  }
 },
 "nbformat": 4,
 "nbformat_minor": 5
}
