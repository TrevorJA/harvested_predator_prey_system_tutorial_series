{
 "cells": [
  {
   "cell_type": "markdown",
   "id": "8514a834",
   "metadata": {},
   "source": [
    "# Interact with the Fisheries system\n",
    "\n",
    "## Custom functions\n",
    "The __make_fisheries_widget__ makes the interactive Fisheries Game widget that calls functions from the following .py files that can be found in the same Part_0_ODE_Dynamics folder:\n",
    "1. __lotka_volterra_functions.py__: Calculates the prey and predator population sizes using Arditi and Akçakaya's (1990) variation of the Lotka-Volterra ODE system. Also identifies the equilibrium point of the Lotka-Volterra ODE syste\n",
    "2. __ode_plot_functions.py__: Plots *n*-trajectories given *n*-initial points. Also plots the change in prey and predator populations over time in two separate subplots\n",
    "3. __fisheries_ode_widget.py__: Makes the interactive sliders and the game widget.\n",
    "\n",
    "In the code block below, the sliders indicate the parameters and their ranges can be found in [Hadjimichael et al. (2020)](https://www.hindawi.com/journals/complexity/2020/4170453/):<br>\n",
    "$\\alpha$: Rate at which prey is available to the predator<br>\n",
    "$b$: Prey growth rate<br>\n",
    "$c$: Rate at which prey is converted to more predators<br>\n",
    "$d$ Predator death rate<br>\n",
    "$h$: Time that each predator needs to fully consume their prey (handling time)<br>\n",
    "$K$: Prey carry capacity, given current environmental conditions<br>\n",
    "$m$: Predator interference parameter<br>\n",
    "$z$: Rate at which the prey populations are harvested (harvesting rate)<br>"
   ]
  },
  {
   "cell_type": "code",
   "execution_count": 1,
   "id": "1c5386eb",
   "metadata": {
    "scrolled": false
   },
   "outputs": [
    {
     "data": {
      "application/vnd.jupyter.widget-view+json": {
       "model_id": "be30059662f8417c84845576e3ab65bb",
       "version_major": 2,
       "version_minor": 0
      },
      "text/plain": [
       "VBox(children=(HBox(children=(VBox(children=(Label(value='a: prey availability'), Label(value='b: prey growth …"
      ]
     },
     "metadata": {},
     "output_type": "display_data"
    }
   ],
   "source": [
    "# Load a python module containing the custom widget\n",
    "from fisheries_ode_widget import make_fisheries_widget\n",
    "\n",
    "# Run the function\n",
    "fishery_widget = make_fisheries_widget()\n",
    "fishery_widget"
   ]
  },
  {
   "cell_type": "code",
   "execution_count": null,
   "id": "78d49fd0",
   "metadata": {
    "collapsed": true,
    "scrolled": true
   },
   "outputs": [],
   "source": []
  },
  {
   "cell_type": "code",
   "execution_count": null,
   "id": "de4aef49",
   "metadata": {
    "scrolled": true
   },
   "outputs": [],
   "source": []
  }
 ],
 "metadata": {
  "kernelspec": {
   "display_name": "Python 3 (ipykernel)",
   "language": "python",
   "name": "python3"
  },
  "language_info": {
   "codemirror_mode": {
    "name": "ipython",
    "version": 3
   },
   "file_extension": ".py",
   "mimetype": "text/x-python",
   "name": "python",
   "nbconvert_exporter": "python",
   "pygments_lexer": "ipython3",
   "version": "3.8.13"
  }
 },
 "nbformat": 4,
 "nbformat_minor": 5
}
