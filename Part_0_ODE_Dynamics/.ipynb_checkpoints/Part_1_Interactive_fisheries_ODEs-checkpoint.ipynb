{
 "cells": [
  {
   "cell_type": "code",
   "execution_count": 1,
   "id": "8d707e59",
   "metadata": {},
   "outputs": [],
   "source": [
    "# NOTE: the ipywidgets library must be installed!\n",
    "\n",
    "# Load a python module containing the custom widget\n",
    "from fisheries_ode_widget import make_fisheries_widget\n",
    "\n",
    "# Run the function\n",
    "fishery_widget = make_fisheries_widget()"
   ]
  },
  {
   "cell_type": "code",
   "execution_count": 2,
   "id": "d2ac4017",
   "metadata": {},
   "outputs": [
    {
     "data": {
      "application/vnd.jupyter.widget-view+json": {
       "model_id": "f4bf3cdcc3bb48caba57ec4d8c939a12",
       "version_major": 2,
       "version_minor": 0
      },
      "text/plain": [
       "VBox(children=(HBox(children=(VBox(children=(Label(value='a: prey availability'), Label(value='b: prey growth …"
      ]
     },
     "metadata": {},
     "output_type": "display_data"
    }
   ],
   "source": [
    "# Activate the interactive widget\n",
    "fishery_widget"
   ]
  },
  {
   "cell_type": "code",
   "execution_count": null,
   "id": "28b3461b",
   "metadata": {},
   "outputs": [],
   "source": []
  },
  {
   "cell_type": "code",
   "execution_count": null,
   "id": "17ac9cdc",
   "metadata": {},
   "outputs": [],
   "source": []
  }
 ],
 "metadata": {
  "kernelspec": {
   "display_name": "Python 3 (ipykernel)",
   "language": "python",
   "name": "python3"
  },
  "language_info": {
   "codemirror_mode": {
    "name": "ipython",
    "version": 3
   },
   "file_extension": ".py",
   "mimetype": "text/x-python",
   "name": "python",
   "nbconvert_exporter": "python",
   "pygments_lexer": "ipython3",
   "version": "3.8.13"
  }
 },
 "nbformat": 4,
 "nbformat_minor": 5
}
